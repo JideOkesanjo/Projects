{
 "cells": [
  {
   "cell_type": "markdown",
   "metadata": {
    "id": "RMVV8RzvNNGJ"
   },
   "source": [
    "# Capstone Three (Recommender System)\n",
    "The objective of this project is find or uncover purchase patterns in customer behaviour. Finding Hidden patterns in behaviour can help optimize consumer choices when shopping online or in-store. \n",
    "\n",
    "\n",
    "## Stages of the capstone \n",
    "\n",
    "1. Sourcing and loading \n",
    "    * Load Online Retail Dataset\n",
    "    * Add `TotalAmount` column to DataFrame to reflect total purchases made for each customer\n",
    "    * Deal with Missing Values\n",
    "    * Assess data types for each column\n",
    " \n",
    " \n",
    "2. Data Wrangling\n",
    "    * Remove free items, billing and price adjustments\n",
    "    * How many unique items are sold at the store\n",
    "    * Check for duplicates \n",
    "    * Look at cancel items in data\n",
    "3. Exploratory Data Analysis\n",
    "    * Top Customers By Country\n",
    "    * Most Orders By Country\n",
    "    * Most Non-UK Customers By Orders\n",
    "    * Total Sales By Hour\n",
    "    * Average Monthly Sales\n",
    "    * Most Expensive Items\n",
    "    * How Do Holiday 2010 and 2011 Sales Compare?\n",
    "    * Another Look At CAnceled Items and Returns\n"
   ]
  },
  {
   "cell_type": "markdown",
   "metadata": {
    "id": "TIZBDeuOMVx_"
   },
   "source": [
    "# Import Libraries"
   ]
  },
  {
   "cell_type": "code",
   "execution_count": 1,
   "metadata": {
    "id": "YXioNBcDNNGL"
   },
   "outputs": [],
   "source": [
    "import pandas as pd\n",
    "import numpy as np\n",
    "from numpy.random import seed\n",
    "import matplotlib.pyplot as plt\n",
    "import seaborn as sns\n",
    "import warnings\n",
    "warnings.filterwarnings('ignore')\n",
    "from scipy.stats import ttest_ind"
   ]
  },
  {
   "cell_type": "markdown",
   "metadata": {
    "id": "XQtbpsHsMIBc"
   },
   "source": [
    "# Load and Unpack Dataset"
   ]
  },
  {
   "cell_type": "code",
   "execution_count": 2,
   "metadata": {
    "colab": {
     "base_uri": "https://localhost:8080/",
     "height": 333
    },
    "id": "BUeOtpamNNGM",
    "outputId": "3467a15c-6c04-4c40-fa5c-08a6363dc13a"
   },
   "outputs": [
    {
     "data": {
      "text/html": [
       "<div>\n",
       "<style scoped>\n",
       "    .dataframe tbody tr th:only-of-type {\n",
       "        vertical-align: middle;\n",
       "    }\n",
       "\n",
       "    .dataframe tbody tr th {\n",
       "        vertical-align: top;\n",
       "    }\n",
       "\n",
       "    .dataframe thead th {\n",
       "        text-align: right;\n",
       "    }\n",
       "</style>\n",
       "<table border=\"1\" class=\"dataframe\">\n",
       "  <thead>\n",
       "    <tr style=\"text-align: right;\">\n",
       "      <th></th>\n",
       "      <th>InvoiceNo</th>\n",
       "      <th>StockCode</th>\n",
       "      <th>Description</th>\n",
       "      <th>Quantity</th>\n",
       "      <th>InvoiceDate</th>\n",
       "      <th>UnitPrice</th>\n",
       "      <th>CustomerID</th>\n",
       "      <th>Country</th>\n",
       "    </tr>\n",
       "  </thead>\n",
       "  <tbody>\n",
       "    <tr>\n",
       "      <th>0</th>\n",
       "      <td>536365</td>\n",
       "      <td>85123A</td>\n",
       "      <td>WHITE HANGING HEART T-LIGHT HOLDER</td>\n",
       "      <td>6</td>\n",
       "      <td>2010-12-01 08:26:00</td>\n",
       "      <td>2.55</td>\n",
       "      <td>17850.0</td>\n",
       "      <td>United Kingdom</td>\n",
       "    </tr>\n",
       "    <tr>\n",
       "      <th>1</th>\n",
       "      <td>536365</td>\n",
       "      <td>71053</td>\n",
       "      <td>WHITE METAL LANTERN</td>\n",
       "      <td>6</td>\n",
       "      <td>2010-12-01 08:26:00</td>\n",
       "      <td>3.39</td>\n",
       "      <td>17850.0</td>\n",
       "      <td>United Kingdom</td>\n",
       "    </tr>\n",
       "    <tr>\n",
       "      <th>2</th>\n",
       "      <td>536365</td>\n",
       "      <td>84406B</td>\n",
       "      <td>CREAM CUPID HEARTS COAT HANGER</td>\n",
       "      <td>8</td>\n",
       "      <td>2010-12-01 08:26:00</td>\n",
       "      <td>2.75</td>\n",
       "      <td>17850.0</td>\n",
       "      <td>United Kingdom</td>\n",
       "    </tr>\n",
       "    <tr>\n",
       "      <th>3</th>\n",
       "      <td>536365</td>\n",
       "      <td>84029G</td>\n",
       "      <td>KNITTED UNION FLAG HOT WATER BOTTLE</td>\n",
       "      <td>6</td>\n",
       "      <td>2010-12-01 08:26:00</td>\n",
       "      <td>3.39</td>\n",
       "      <td>17850.0</td>\n",
       "      <td>United Kingdom</td>\n",
       "    </tr>\n",
       "    <tr>\n",
       "      <th>4</th>\n",
       "      <td>536365</td>\n",
       "      <td>84029E</td>\n",
       "      <td>RED WOOLLY HOTTIE WHITE HEART.</td>\n",
       "      <td>6</td>\n",
       "      <td>2010-12-01 08:26:00</td>\n",
       "      <td>3.39</td>\n",
       "      <td>17850.0</td>\n",
       "      <td>United Kingdom</td>\n",
       "    </tr>\n",
       "  </tbody>\n",
       "</table>\n",
       "</div>"
      ],
      "text/plain": [
       "  InvoiceNo StockCode                          Description  Quantity  \\\n",
       "0    536365    85123A   WHITE HANGING HEART T-LIGHT HOLDER         6   \n",
       "1    536365     71053                  WHITE METAL LANTERN         6   \n",
       "2    536365    84406B       CREAM CUPID HEARTS COAT HANGER         8   \n",
       "3    536365    84029G  KNITTED UNION FLAG HOT WATER BOTTLE         6   \n",
       "4    536365    84029E       RED WOOLLY HOTTIE WHITE HEART.         6   \n",
       "\n",
       "          InvoiceDate  UnitPrice  CustomerID         Country  \n",
       "0 2010-12-01 08:26:00       2.55     17850.0  United Kingdom  \n",
       "1 2010-12-01 08:26:00       3.39     17850.0  United Kingdom  \n",
       "2 2010-12-01 08:26:00       2.75     17850.0  United Kingdom  \n",
       "3 2010-12-01 08:26:00       3.39     17850.0  United Kingdom  \n",
       "4 2010-12-01 08:26:00       3.39     17850.0  United Kingdom  "
      ]
     },
     "execution_count": 2,
     "metadata": {},
     "output_type": "execute_result"
    }
   ],
   "source": [
    "retail = pd.read_excel('Online Retail.xlsx')\n",
    "retail.head()"
   ]
  },
  {
   "cell_type": "code",
   "execution_count": 3,
   "metadata": {
    "id": "jKN54TVSNNGM"
   },
   "outputs": [],
   "source": [
    "retail['TotalAmount'] = retail['Quantity'] * retail['UnitPrice']"
   ]
  },
  {
   "cell_type": "markdown",
   "metadata": {
    "id": "ruT0qEvJQbhN"
   },
   "source": [
    "## Number of Rows and Columns in Data"
   ]
  },
  {
   "cell_type": "markdown",
   "metadata": {
    "id": "QPuuI9cwQk8Y"
   },
   "source": [
    "## Add `TotalAmount` column to Data to reflect total purchases made for each customer."
   ]
  },
  {
   "cell_type": "code",
   "execution_count": 4,
   "metadata": {
    "colab": {
     "base_uri": "https://localhost:8080/"
    },
    "id": "4RvWcnd3NNGN",
    "outputId": "ac6c0759-e5e9-45d6-d3a6-eb0034a52727"
   },
   "outputs": [
    {
     "name": "stdout",
     "output_type": "stream",
     "text": [
      "<class 'pandas.core.frame.DataFrame'>\n",
      "RangeIndex: 541909 entries, 0 to 541908\n",
      "Data columns (total 9 columns):\n",
      " #   Column       Non-Null Count   Dtype         \n",
      "---  ------       --------------   -----         \n",
      " 0   InvoiceNo    541909 non-null  object        \n",
      " 1   StockCode    541909 non-null  object        \n",
      " 2   Description  540455 non-null  object        \n",
      " 3   Quantity     541909 non-null  int64         \n",
      " 4   InvoiceDate  541909 non-null  datetime64[ns]\n",
      " 5   UnitPrice    541909 non-null  float64       \n",
      " 6   CustomerID   406829 non-null  float64       \n",
      " 7   Country      541909 non-null  object        \n",
      " 8   TotalAmount  541909 non-null  float64       \n",
      "dtypes: datetime64[ns](1), float64(3), int64(1), object(4)\n",
      "memory usage: 37.2+ MB\n"
     ]
    }
   ],
   "source": [
    "retail.info()"
   ]
  },
  {
   "cell_type": "code",
   "execution_count": 5,
   "metadata": {
    "colab": {
     "base_uri": "https://localhost:8080/"
    },
    "id": "ydmJ8s5gNNGN",
    "outputId": "d803a709-17c8-4680-a974-0d6f92ecc969"
   },
   "outputs": [
    {
     "name": "stdout",
     "output_type": "stream",
     "text": [
      "The Dataset has 541909 rows and 9 columns\n"
     ]
    }
   ],
   "source": [
    "retail.shape\n",
    "print('The Dataset has ' + str(retail.shape[0]) + ' rows and ' + str(retail.shape[1]) + ' columns')"
   ]
  },
  {
   "cell_type": "markdown",
   "metadata": {
    "id": "e0mvO1B1NNGO"
   },
   "source": [
    "Data Definitions: Column names, Data Types, Description of Columns, Counts and Percents of Unique Values, Ranges of Values"
   ]
  },
  {
   "cell_type": "code",
   "execution_count": 6,
   "metadata": {
    "colab": {
     "base_uri": "https://localhost:8080/"
    },
    "id": "dxr3EU3tNNGO",
    "outputId": "64d7aaa8-c85e-4de0-d7aa-2d9c4c9c811c"
   },
   "outputs": [
    {
     "data": {
      "text/plain": [
       "Index(['InvoiceNo', 'StockCode', 'Description', 'Quantity', 'InvoiceDate',\n",
       "       'UnitPrice', 'CustomerID', 'Country', 'TotalAmount'],\n",
       "      dtype='object')"
      ]
     },
     "execution_count": 6,
     "metadata": {},
     "output_type": "execute_result"
    }
   ],
   "source": [
    "retail.columns"
   ]
  },
  {
   "cell_type": "markdown",
   "metadata": {
    "id": "1ErvlctjRBVR"
   },
   "source": [
    "## Missing Values in data"
   ]
  },
  {
   "cell_type": "code",
   "execution_count": 7,
   "metadata": {
    "colab": {
     "base_uri": "https://localhost:8080/"
    },
    "id": "3g6_BSpZNNGR",
    "outputId": "aec03147-e2ed-47f9-e8e9-5aa1cf845980"
   },
   "outputs": [
    {
     "data": {
      "text/plain": [
       "InvoiceNo      False\n",
       "StockCode      False\n",
       "Description     True\n",
       "Quantity       False\n",
       "InvoiceDate    False\n",
       "UnitPrice      False\n",
       "CustomerID      True\n",
       "Country        False\n",
       "TotalAmount    False\n",
       "dtype: bool"
      ]
     },
     "execution_count": 7,
     "metadata": {},
     "output_type": "execute_result"
    }
   ],
   "source": [
    "retail.isna().any()"
   ]
  },
  {
   "cell_type": "code",
   "execution_count": 8,
   "metadata": {
    "colab": {
     "base_uri": "https://localhost:8080/",
     "height": 328
    },
    "id": "90hsBUYXNNGP",
    "outputId": "144e414a-3784-4f44-f784-032d6b3240f7"
   },
   "outputs": [
    {
     "data": {
      "text/html": [
       "<div>\n",
       "<style scoped>\n",
       "    .dataframe tbody tr th:only-of-type {\n",
       "        vertical-align: middle;\n",
       "    }\n",
       "\n",
       "    .dataframe tbody tr th {\n",
       "        vertical-align: top;\n",
       "    }\n",
       "\n",
       "    .dataframe thead th {\n",
       "        text-align: right;\n",
       "    }\n",
       "</style>\n",
       "<table border=\"1\" class=\"dataframe\">\n",
       "  <thead>\n",
       "    <tr style=\"text-align: right;\">\n",
       "      <th></th>\n",
       "      <th>Count</th>\n",
       "      <th>Percent</th>\n",
       "    </tr>\n",
       "  </thead>\n",
       "  <tbody>\n",
       "    <tr>\n",
       "      <th>InvoiceNo</th>\n",
       "      <td>0</td>\n",
       "      <td>0.000000</td>\n",
       "    </tr>\n",
       "    <tr>\n",
       "      <th>StockCode</th>\n",
       "      <td>0</td>\n",
       "      <td>0.000000</td>\n",
       "    </tr>\n",
       "    <tr>\n",
       "      <th>Description</th>\n",
       "      <td>1454</td>\n",
       "      <td>0.268311</td>\n",
       "    </tr>\n",
       "    <tr>\n",
       "      <th>Quantity</th>\n",
       "      <td>0</td>\n",
       "      <td>0.000000</td>\n",
       "    </tr>\n",
       "    <tr>\n",
       "      <th>InvoiceDate</th>\n",
       "      <td>0</td>\n",
       "      <td>0.000000</td>\n",
       "    </tr>\n",
       "    <tr>\n",
       "      <th>UnitPrice</th>\n",
       "      <td>0</td>\n",
       "      <td>0.000000</td>\n",
       "    </tr>\n",
       "    <tr>\n",
       "      <th>CustomerID</th>\n",
       "      <td>135080</td>\n",
       "      <td>24.926694</td>\n",
       "    </tr>\n",
       "    <tr>\n",
       "      <th>Country</th>\n",
       "      <td>0</td>\n",
       "      <td>0.000000</td>\n",
       "    </tr>\n",
       "    <tr>\n",
       "      <th>TotalAmount</th>\n",
       "      <td>0</td>\n",
       "      <td>0.000000</td>\n",
       "    </tr>\n",
       "  </tbody>\n",
       "</table>\n",
       "</div>"
      ],
      "text/plain": [
       "              Count    Percent\n",
       "InvoiceNo         0   0.000000\n",
       "StockCode         0   0.000000\n",
       "Description    1454   0.268311\n",
       "Quantity          0   0.000000\n",
       "InvoiceDate       0   0.000000\n",
       "UnitPrice         0   0.000000\n",
       "CustomerID   135080  24.926694\n",
       "Country           0   0.000000\n",
       "TotalAmount       0   0.000000"
      ]
     },
     "execution_count": 8,
     "metadata": {},
     "output_type": "execute_result"
    }
   ],
   "source": [
    "missing_values = pd.concat([retail.isnull().sum(), 100 * retail.isnull().mean()], axis=1)\n",
    "missing_values.rename(columns={0: 'Count', 1: 'Percent'}, inplace=True)\n",
    "missing_values"
   ]
  },
  {
   "cell_type": "markdown",
   "metadata": {
    "id": "bOtxvxKHNNGP"
   },
   "source": [
    "There are 1454 items without a description in the \"Description\" column in the dataset. This accounts for .27% of the total dataset. There are 135080 rows without a \"CustomerID\", which is about 25% of the dataset. "
   ]
  },
  {
   "cell_type": "code",
   "execution_count": 9,
   "metadata": {
    "colab": {
     "base_uri": "https://localhost:8080/",
     "height": 883
    },
    "id": "p4Q3jIbhNNGQ",
    "outputId": "298ae74b-7fb1-4ae3-e14e-d6242a55e19c",
    "scrolled": true
   },
   "outputs": [
    {
     "data": {
      "image/png": "[encoded data removed]",
      "text/plain": [
       "<Figure size 1080x1080 with 1 Axes>"
      ]
     },
     "metadata": {
      "needs_background": "light"
     },
     "output_type": "display_data"
    }
   ],
   "source": [
    "plt.figure(figsize=(15,15))\n",
    "sns.barplot(x=missing_values.index, y='Count', data=missing_values)\n",
    "plt.xticks(color='red')\n",
    "plt.yticks(color='red')\n",
    "plt.title('Missing Rows In DataFrame', color='blue', fontsize=25)\n",
    "plt.xlabel('Column Name', color='blue', fontsize=20)\n",
    "plt.ylabel('Number of Missing Columns', color='blue', fontsize=20)\n",
    "plt.show()"
   ]
  },
  {
   "cell_type": "markdown",
   "metadata": {
    "id": "962VId0CVy69"
   },
   "source": [
    "## Data types for each column"
   ]
  },
  {
   "cell_type": "code",
   "execution_count": 10,
   "metadata": {
    "colab": {
     "base_uri": "https://localhost:8080/"
    },
    "id": "TeXPfkyPNNGQ",
    "outputId": "457c3f5a-7b41-4537-e12e-c46dae44e66b"
   },
   "outputs": [
    {
     "data": {
      "text/plain": [
       "InvoiceNo              object\n",
       "StockCode              object\n",
       "Description            object\n",
       "Quantity                int64\n",
       "InvoiceDate    datetime64[ns]\n",
       "UnitPrice             float64\n",
       "CustomerID            float64\n",
       "Country                object\n",
       "TotalAmount           float64\n",
       "dtype: object"
      ]
     },
     "execution_count": 10,
     "metadata": {},
     "output_type": "execute_result"
    }
   ],
   "source": [
    "retail.dtypes"
   ]
  },
  {
   "cell_type": "markdown",
   "metadata": {
    "id": "cvIEqszvAouN"
   },
   "source": [
    "# Data Wrangling"
   ]
  },
  {
   "cell_type": "markdown",
   "metadata": {
    "id": "y0cIZbCKeU4D"
   },
   "source": [
    "## Remove Free Items, Billing and Price Adjustments"
   ]
  },
  {
   "cell_type": "code",
   "execution_count": 11,
   "metadata": {
    "colab": {
     "base_uri": "https://localhost:8080/",
     "height": 401
    },
    "id": "rMBANpzvNNGS",
    "outputId": "1328aaa9-57d5-45e8-a160-09b2fb107b1f"
   },
   "outputs": [
    {
     "data": {
      "text/html": [
       "<div>\n",
       "<style scoped>\n",
       "    .dataframe tbody tr th:only-of-type {\n",
       "        vertical-align: middle;\n",
       "    }\n",
       "\n",
       "    .dataframe tbody tr th {\n",
       "        vertical-align: top;\n",
       "    }\n",
       "\n",
       "    .dataframe thead th {\n",
       "        text-align: right;\n",
       "    }\n",
       "</style>\n",
       "<table border=\"1\" class=\"dataframe\">\n",
       "  <thead>\n",
       "    <tr style=\"text-align: right;\">\n",
       "      <th></th>\n",
       "      <th>InvoiceNo</th>\n",
       "      <th>StockCode</th>\n",
       "      <th>Description</th>\n",
       "      <th>Quantity</th>\n",
       "      <th>InvoiceDate</th>\n",
       "      <th>UnitPrice</th>\n",
       "      <th>CustomerID</th>\n",
       "      <th>Country</th>\n",
       "      <th>TotalAmount</th>\n",
       "    </tr>\n",
       "  </thead>\n",
       "  <tbody>\n",
       "    <tr>\n",
       "      <th>0</th>\n",
       "      <td>536365</td>\n",
       "      <td>85123A</td>\n",
       "      <td>WHITE HANGING HEART T-LIGHT HOLDER</td>\n",
       "      <td>6</td>\n",
       "      <td>2010-12-01 08:26:00</td>\n",
       "      <td>2.55</td>\n",
       "      <td>17850.0</td>\n",
       "      <td>United Kingdom</td>\n",
       "      <td>15.30</td>\n",
       "    </tr>\n",
       "    <tr>\n",
       "      <th>1</th>\n",
       "      <td>536365</td>\n",
       "      <td>71053</td>\n",
       "      <td>WHITE METAL LANTERN</td>\n",
       "      <td>6</td>\n",
       "      <td>2010-12-01 08:26:00</td>\n",
       "      <td>3.39</td>\n",
       "      <td>17850.0</td>\n",
       "      <td>United Kingdom</td>\n",
       "      <td>20.34</td>\n",
       "    </tr>\n",
       "    <tr>\n",
       "      <th>2</th>\n",
       "      <td>536365</td>\n",
       "      <td>84406B</td>\n",
       "      <td>CREAM CUPID HEARTS COAT HANGER</td>\n",
       "      <td>8</td>\n",
       "      <td>2010-12-01 08:26:00</td>\n",
       "      <td>2.75</td>\n",
       "      <td>17850.0</td>\n",
       "      <td>United Kingdom</td>\n",
       "      <td>22.00</td>\n",
       "    </tr>\n",
       "    <tr>\n",
       "      <th>3</th>\n",
       "      <td>536365</td>\n",
       "      <td>84029G</td>\n",
       "      <td>KNITTED UNION FLAG HOT WATER BOTTLE</td>\n",
       "      <td>6</td>\n",
       "      <td>2010-12-01 08:26:00</td>\n",
       "      <td>3.39</td>\n",
       "      <td>17850.0</td>\n",
       "      <td>United Kingdom</td>\n",
       "      <td>20.34</td>\n",
       "    </tr>\n",
       "    <tr>\n",
       "      <th>4</th>\n",
       "      <td>536365</td>\n",
       "      <td>84029E</td>\n",
       "      <td>RED WOOLLY HOTTIE WHITE HEART.</td>\n",
       "      <td>6</td>\n",
       "      <td>2010-12-01 08:26:00</td>\n",
       "      <td>3.39</td>\n",
       "      <td>17850.0</td>\n",
       "      <td>United Kingdom</td>\n",
       "      <td>20.34</td>\n",
       "    </tr>\n",
       "  </tbody>\n",
       "</table>\n",
       "</div>"
      ],
      "text/plain": [
       "  InvoiceNo StockCode                          Description  Quantity  \\\n",
       "0    536365    85123A   WHITE HANGING HEART T-LIGHT HOLDER         6   \n",
       "1    536365     71053                  WHITE METAL LANTERN         6   \n",
       "2    536365    84406B       CREAM CUPID HEARTS COAT HANGER         8   \n",
       "3    536365    84029G  KNITTED UNION FLAG HOT WATER BOTTLE         6   \n",
       "4    536365    84029E       RED WOOLLY HOTTIE WHITE HEART.         6   \n",
       "\n",
       "          InvoiceDate  UnitPrice  CustomerID         Country  TotalAmount  \n",
       "0 2010-12-01 08:26:00       2.55     17850.0  United Kingdom        15.30  \n",
       "1 2010-12-01 08:26:00       3.39     17850.0  United Kingdom        20.34  \n",
       "2 2010-12-01 08:26:00       2.75     17850.0  United Kingdom        22.00  \n",
       "3 2010-12-01 08:26:00       3.39     17850.0  United Kingdom        20.34  \n",
       "4 2010-12-01 08:26:00       3.39     17850.0  United Kingdom        20.34  "
      ]
     },
     "execution_count": 11,
     "metadata": {},
     "output_type": "execute_result"
    }
   ],
   "source": [
    "free = retail['UnitPrice'] == 0.0\n",
    "df = retail[~free]\n",
    "df.head()"
   ]
  },
  {
   "cell_type": "code",
   "execution_count": 12,
   "metadata": {
    "colab": {
     "base_uri": "https://localhost:8080/"
    },
    "id": "EBSc05yRNNGT",
    "outputId": "69f13eae-25dd-4911-ab93-963be1deec52"
   },
   "outputs": [
    {
     "data": {
      "text/plain": [
       "UnitPrice   Description               \n",
       "-11062.060  Adjust bad debt               2\n",
       " 0.001      PADS TO MATCH ALL CUSHIONS    3\n",
       "            Bank Charges                  1\n",
       " 0.010      Discount                      1\n",
       " 0.030      Discount                      1\n",
       "                                         ..\n",
       " 13541.330  AMAZON FEE                    3\n",
       " 16453.710  AMAZON FEE                    1\n",
       " 16888.020  AMAZON FEE                    1\n",
       " 17836.460  AMAZON FEE                    1\n",
       " 38970.000  Manual                        1\n",
       "Name: Description, Length: 16144, dtype: int64"
      ]
     },
     "execution_count": 12,
     "metadata": {},
     "output_type": "execute_result"
    }
   ],
   "source": [
    "df.groupby('UnitPrice')['Description'].value_counts()"
   ]
  },
  {
   "cell_type": "markdown",
   "metadata": {
    "id": "92NsE2_edprU"
   },
   "source": [
    "## How Many Unique Items Are Sold At The Store?"
   ]
  },
  {
   "cell_type": "code",
   "execution_count": 13,
   "metadata": {
    "colab": {
     "base_uri": "https://localhost:8080/"
    },
    "id": "-EDVy89SNNGT",
    "outputId": "d7b3054c-1fde-408c-c22e-16038eeff9e5"
   },
   "outputs": [
    {
     "data": {
      "text/plain": [
       "3938"
      ]
     },
     "execution_count": 13,
     "metadata": {},
     "output_type": "execute_result"
    }
   ],
   "source": [
    "df.StockCode.nunique()"
   ]
  },
  {
   "cell_type": "markdown",
   "metadata": {
    "id": "r_G7JB9sdhSf"
   },
   "source": [
    "## Duplicates\n",
    "\n"
   ]
  },
  {
   "cell_type": "code",
   "execution_count": 14,
   "metadata": {
    "colab": {
     "base_uri": "https://localhost:8080/",
     "height": 942
    },
    "id": "LlhODRqUNNGT",
    "outputId": "d8098f1e-ec7a-4ffc-b784-4d193a72ffb0"
   },
   "outputs": [
    {
     "data": {
      "text/html": [
       "<div>\n",
       "<style scoped>\n",
       "    .dataframe tbody tr th:only-of-type {\n",
       "        vertical-align: middle;\n",
       "    }\n",
       "\n",
       "    .dataframe tbody tr th {\n",
       "        vertical-align: top;\n",
       "    }\n",
       "\n",
       "    .dataframe thead th {\n",
       "        text-align: right;\n",
       "    }\n",
       "</style>\n",
       "<table border=\"1\" class=\"dataframe\">\n",
       "  <thead>\n",
       "    <tr style=\"text-align: right;\">\n",
       "      <th></th>\n",
       "      <th>InvoiceNo</th>\n",
       "      <th>StockCode</th>\n",
       "      <th>Description</th>\n",
       "      <th>Quantity</th>\n",
       "      <th>InvoiceDate</th>\n",
       "      <th>UnitPrice</th>\n",
       "      <th>CustomerID</th>\n",
       "      <th>Country</th>\n",
       "      <th>TotalAmount</th>\n",
       "    </tr>\n",
       "  </thead>\n",
       "  <tbody>\n",
       "    <tr>\n",
       "      <th>0</th>\n",
       "      <td>536365</td>\n",
       "      <td>85123A</td>\n",
       "      <td>WHITE HANGING HEART T-LIGHT HOLDER</td>\n",
       "      <td>6</td>\n",
       "      <td>2010-12-01 08:26:00</td>\n",
       "      <td>2.55</td>\n",
       "      <td>17850.0</td>\n",
       "      <td>United Kingdom</td>\n",
       "      <td>15.30</td>\n",
       "    </tr>\n",
       "    <tr>\n",
       "      <th>1</th>\n",
       "      <td>536365</td>\n",
       "      <td>71053</td>\n",
       "      <td>WHITE METAL LANTERN</td>\n",
       "      <td>6</td>\n",
       "      <td>2010-12-01 08:26:00</td>\n",
       "      <td>3.39</td>\n",
       "      <td>17850.0</td>\n",
       "      <td>United Kingdom</td>\n",
       "      <td>20.34</td>\n",
       "    </tr>\n",
       "    <tr>\n",
       "      <th>2</th>\n",
       "      <td>536365</td>\n",
       "      <td>84406B</td>\n",
       "      <td>CREAM CUPID HEARTS COAT HANGER</td>\n",
       "      <td>8</td>\n",
       "      <td>2010-12-01 08:26:00</td>\n",
       "      <td>2.75</td>\n",
       "      <td>17850.0</td>\n",
       "      <td>United Kingdom</td>\n",
       "      <td>22.00</td>\n",
       "    </tr>\n",
       "    <tr>\n",
       "      <th>3</th>\n",
       "      <td>536365</td>\n",
       "      <td>84029G</td>\n",
       "      <td>KNITTED UNION FLAG HOT WATER BOTTLE</td>\n",
       "      <td>6</td>\n",
       "      <td>2010-12-01 08:26:00</td>\n",
       "      <td>3.39</td>\n",
       "      <td>17850.0</td>\n",
       "      <td>United Kingdom</td>\n",
       "      <td>20.34</td>\n",
       "    </tr>\n",
       "    <tr>\n",
       "      <th>4</th>\n",
       "      <td>536365</td>\n",
       "      <td>84029E</td>\n",
       "      <td>RED WOOLLY HOTTIE WHITE HEART.</td>\n",
       "      <td>6</td>\n",
       "      <td>2010-12-01 08:26:00</td>\n",
       "      <td>3.39</td>\n",
       "      <td>17850.0</td>\n",
       "      <td>United Kingdom</td>\n",
       "      <td>20.34</td>\n",
       "    </tr>\n",
       "    <tr>\n",
       "      <th>...</th>\n",
       "      <td>...</td>\n",
       "      <td>...</td>\n",
       "      <td>...</td>\n",
       "      <td>...</td>\n",
       "      <td>...</td>\n",
       "      <td>...</td>\n",
       "      <td>...</td>\n",
       "      <td>...</td>\n",
       "      <td>...</td>\n",
       "    </tr>\n",
       "    <tr>\n",
       "      <th>541904</th>\n",
       "      <td>581587</td>\n",
       "      <td>22613</td>\n",
       "      <td>PACK OF 20 SPACEBOY NAPKINS</td>\n",
       "      <td>12</td>\n",
       "      <td>2011-12-09 12:50:00</td>\n",
       "      <td>0.85</td>\n",
       "      <td>12680.0</td>\n",
       "      <td>France</td>\n",
       "      <td>10.20</td>\n",
       "    </tr>\n",
       "    <tr>\n",
       "      <th>541905</th>\n",
       "      <td>581587</td>\n",
       "      <td>22899</td>\n",
       "      <td>CHILDREN'S APRON DOLLY GIRL</td>\n",
       "      <td>6</td>\n",
       "      <td>2011-12-09 12:50:00</td>\n",
       "      <td>2.10</td>\n",
       "      <td>12680.0</td>\n",
       "      <td>France</td>\n",
       "      <td>12.60</td>\n",
       "    </tr>\n",
       "    <tr>\n",
       "      <th>541906</th>\n",
       "      <td>581587</td>\n",
       "      <td>23254</td>\n",
       "      <td>CHILDRENS CUTLERY DOLLY GIRL</td>\n",
       "      <td>4</td>\n",
       "      <td>2011-12-09 12:50:00</td>\n",
       "      <td>4.15</td>\n",
       "      <td>12680.0</td>\n",
       "      <td>France</td>\n",
       "      <td>16.60</td>\n",
       "    </tr>\n",
       "    <tr>\n",
       "      <th>541907</th>\n",
       "      <td>581587</td>\n",
       "      <td>23255</td>\n",
       "      <td>CHILDRENS CUTLERY CIRCUS PARADE</td>\n",
       "      <td>4</td>\n",
       "      <td>2011-12-09 12:50:00</td>\n",
       "      <td>4.15</td>\n",
       "      <td>12680.0</td>\n",
       "      <td>France</td>\n",
       "      <td>16.60</td>\n",
       "    </tr>\n",
       "    <tr>\n",
       "      <th>541908</th>\n",
       "      <td>581587</td>\n",
       "      <td>22138</td>\n",
       "      <td>BAKING SET 9 PIECE RETROSPOT</td>\n",
       "      <td>3</td>\n",
       "      <td>2011-12-09 12:50:00</td>\n",
       "      <td>4.95</td>\n",
       "      <td>12680.0</td>\n",
       "      <td>France</td>\n",
       "      <td>14.85</td>\n",
       "    </tr>\n",
       "  </tbody>\n",
       "</table>\n",
       "<p>539316 rows × 9 columns</p>\n",
       "</div>"
      ],
      "text/plain": [
       "       InvoiceNo StockCode                          Description  Quantity  \\\n",
       "0         536365    85123A   WHITE HANGING HEART T-LIGHT HOLDER         6   \n",
       "1         536365     71053                  WHITE METAL LANTERN         6   \n",
       "2         536365    84406B       CREAM CUPID HEARTS COAT HANGER         8   \n",
       "3         536365    84029G  KNITTED UNION FLAG HOT WATER BOTTLE         6   \n",
       "4         536365    84029E       RED WOOLLY HOTTIE WHITE HEART.         6   \n",
       "...          ...       ...                                  ...       ...   \n",
       "541904    581587     22613          PACK OF 20 SPACEBOY NAPKINS        12   \n",
       "541905    581587     22899         CHILDREN'S APRON DOLLY GIRL          6   \n",
       "541906    581587     23254        CHILDRENS CUTLERY DOLLY GIRL          4   \n",
       "541907    581587     23255      CHILDRENS CUTLERY CIRCUS PARADE         4   \n",
       "541908    581587     22138        BAKING SET 9 PIECE RETROSPOT          3   \n",
       "\n",
       "               InvoiceDate  UnitPrice  CustomerID         Country  TotalAmount  \n",
       "0      2010-12-01 08:26:00       2.55     17850.0  United Kingdom        15.30  \n",
       "1      2010-12-01 08:26:00       3.39     17850.0  United Kingdom        20.34  \n",
       "2      2010-12-01 08:26:00       2.75     17850.0  United Kingdom        22.00  \n",
       "3      2010-12-01 08:26:00       3.39     17850.0  United Kingdom        20.34  \n",
       "4      2010-12-01 08:26:00       3.39     17850.0  United Kingdom        20.34  \n",
       "...                    ...        ...         ...             ...          ...  \n",
       "541904 2011-12-09 12:50:00       0.85     12680.0          France        10.20  \n",
       "541905 2011-12-09 12:50:00       2.10     12680.0          France        12.60  \n",
       "541906 2011-12-09 12:50:00       4.15     12680.0          France        16.60  \n",
       "541907 2011-12-09 12:50:00       4.15     12680.0          France        16.60  \n",
       "541908 2011-12-09 12:50:00       4.95     12680.0          France        14.85  \n",
       "\n",
       "[539316 rows x 9 columns]"
      ]
     },
     "execution_count": 14,
     "metadata": {},
     "output_type": "execute_result"
    }
   ],
   "source": [
    "duplicates = df.duplicated(['CustomerID'], keep=False)\n",
    "df_dupl = df[duplicates]\n",
    "df_dupl"
   ]
  },
  {
   "cell_type": "code",
   "execution_count": 15,
   "metadata": {
    "colab": {
     "base_uri": "https://localhost:8080/",
     "height": 891
    },
    "id": "M_2TvLYqNNGU",
    "outputId": "073db0e7-f24b-4a14-f20a-14ddf02add3e"
   },
   "outputs": [
    {
     "data": {
      "text/html": [
       "<div>\n",
       "<style scoped>\n",
       "    .dataframe tbody tr th:only-of-type {\n",
       "        vertical-align: middle;\n",
       "    }\n",
       "\n",
       "    .dataframe tbody tr th {\n",
       "        vertical-align: top;\n",
       "    }\n",
       "\n",
       "    .dataframe thead th {\n",
       "        text-align: right;\n",
       "    }\n",
       "</style>\n",
       "<table border=\"1\" class=\"dataframe\">\n",
       "  <thead>\n",
       "    <tr style=\"text-align: right;\">\n",
       "      <th></th>\n",
       "      <th>InvoiceNo</th>\n",
       "      <th>StockCode</th>\n",
       "      <th>Description</th>\n",
       "      <th>Quantity</th>\n",
       "      <th>InvoiceDate</th>\n",
       "      <th>UnitPrice</th>\n",
       "      <th>CustomerID</th>\n",
       "      <th>Country</th>\n",
       "      <th>TotalAmount</th>\n",
       "    </tr>\n",
       "  </thead>\n",
       "  <tbody>\n",
       "    <tr>\n",
       "      <th>61624</th>\n",
       "      <td>C541433</td>\n",
       "      <td>23166</td>\n",
       "      <td>MEDIUM CERAMIC TOP STORAGE JAR</td>\n",
       "      <td>-74215</td>\n",
       "      <td>2011-01-18 10:17:00</td>\n",
       "      <td>1.04</td>\n",
       "      <td>12346.0</td>\n",
       "      <td>United Kingdom</td>\n",
       "      <td>-77183.60</td>\n",
       "    </tr>\n",
       "    <tr>\n",
       "      <th>61619</th>\n",
       "      <td>541431</td>\n",
       "      <td>23166</td>\n",
       "      <td>MEDIUM CERAMIC TOP STORAGE JAR</td>\n",
       "      <td>74215</td>\n",
       "      <td>2011-01-18 10:01:00</td>\n",
       "      <td>1.04</td>\n",
       "      <td>12346.0</td>\n",
       "      <td>United Kingdom</td>\n",
       "      <td>77183.60</td>\n",
       "    </tr>\n",
       "    <tr>\n",
       "      <th>428957</th>\n",
       "      <td>573511</td>\n",
       "      <td>23480</td>\n",
       "      <td>MINI LIGHTS WOODLAND MUSHROOMS</td>\n",
       "      <td>12</td>\n",
       "      <td>2011-10-31 12:25:00</td>\n",
       "      <td>3.75</td>\n",
       "      <td>12347.0</td>\n",
       "      <td>Iceland</td>\n",
       "      <td>45.00</td>\n",
       "    </tr>\n",
       "    <tr>\n",
       "      <th>72252</th>\n",
       "      <td>542237</td>\n",
       "      <td>20966</td>\n",
       "      <td>SANDWICH BATH SPONGE</td>\n",
       "      <td>10</td>\n",
       "      <td>2011-01-26 14:30:00</td>\n",
       "      <td>1.25</td>\n",
       "      <td>12347.0</td>\n",
       "      <td>Iceland</td>\n",
       "      <td>12.50</td>\n",
       "    </tr>\n",
       "    <tr>\n",
       "      <th>72253</th>\n",
       "      <td>542237</td>\n",
       "      <td>22725</td>\n",
       "      <td>ALARM CLOCK BAKELIKE CHOCOLATE</td>\n",
       "      <td>4</td>\n",
       "      <td>2011-01-26 14:30:00</td>\n",
       "      <td>3.75</td>\n",
       "      <td>12347.0</td>\n",
       "      <td>Iceland</td>\n",
       "      <td>15.00</td>\n",
       "    </tr>\n",
       "    <tr>\n",
       "      <th>...</th>\n",
       "      <td>...</td>\n",
       "      <td>...</td>\n",
       "      <td>...</td>\n",
       "      <td>...</td>\n",
       "      <td>...</td>\n",
       "      <td>...</td>\n",
       "      <td>...</td>\n",
       "      <td>...</td>\n",
       "      <td>...</td>\n",
       "    </tr>\n",
       "    <tr>\n",
       "      <th>541536</th>\n",
       "      <td>581498</td>\n",
       "      <td>85099B</td>\n",
       "      <td>JUMBO BAG RED RETROSPOT</td>\n",
       "      <td>5</td>\n",
       "      <td>2011-12-09 10:26:00</td>\n",
       "      <td>4.13</td>\n",
       "      <td>NaN</td>\n",
       "      <td>United Kingdom</td>\n",
       "      <td>20.65</td>\n",
       "    </tr>\n",
       "    <tr>\n",
       "      <th>541537</th>\n",
       "      <td>581498</td>\n",
       "      <td>85099C</td>\n",
       "      <td>JUMBO  BAG BAROQUE BLACK WHITE</td>\n",
       "      <td>4</td>\n",
       "      <td>2011-12-09 10:26:00</td>\n",
       "      <td>4.13</td>\n",
       "      <td>NaN</td>\n",
       "      <td>United Kingdom</td>\n",
       "      <td>16.52</td>\n",
       "    </tr>\n",
       "    <tr>\n",
       "      <th>541538</th>\n",
       "      <td>581498</td>\n",
       "      <td>85150</td>\n",
       "      <td>LADIES &amp; GENTLEMEN METAL SIGN</td>\n",
       "      <td>1</td>\n",
       "      <td>2011-12-09 10:26:00</td>\n",
       "      <td>4.96</td>\n",
       "      <td>NaN</td>\n",
       "      <td>United Kingdom</td>\n",
       "      <td>4.96</td>\n",
       "    </tr>\n",
       "    <tr>\n",
       "      <th>541539</th>\n",
       "      <td>581498</td>\n",
       "      <td>85174</td>\n",
       "      <td>S/4 CACTI CANDLES</td>\n",
       "      <td>1</td>\n",
       "      <td>2011-12-09 10:26:00</td>\n",
       "      <td>10.79</td>\n",
       "      <td>NaN</td>\n",
       "      <td>United Kingdom</td>\n",
       "      <td>10.79</td>\n",
       "    </tr>\n",
       "    <tr>\n",
       "      <th>541540</th>\n",
       "      <td>581498</td>\n",
       "      <td>DOT</td>\n",
       "      <td>DOTCOM POSTAGE</td>\n",
       "      <td>1</td>\n",
       "      <td>2011-12-09 10:26:00</td>\n",
       "      <td>1714.17</td>\n",
       "      <td>NaN</td>\n",
       "      <td>United Kingdom</td>\n",
       "      <td>1714.17</td>\n",
       "    </tr>\n",
       "  </tbody>\n",
       "</table>\n",
       "<p>529179 rows × 9 columns</p>\n",
       "</div>"
      ],
      "text/plain": [
       "       InvoiceNo StockCode                     Description  Quantity  \\\n",
       "61624    C541433     23166  MEDIUM CERAMIC TOP STORAGE JAR    -74215   \n",
       "61619     541431     23166  MEDIUM CERAMIC TOP STORAGE JAR     74215   \n",
       "428957    573511     23480  MINI LIGHTS WOODLAND MUSHROOMS        12   \n",
       "72252     542237     20966            SANDWICH BATH SPONGE        10   \n",
       "72253     542237     22725  ALARM CLOCK BAKELIKE CHOCOLATE         4   \n",
       "...          ...       ...                             ...       ...   \n",
       "541536    581498    85099B         JUMBO BAG RED RETROSPOT         5   \n",
       "541537    581498    85099C  JUMBO  BAG BAROQUE BLACK WHITE         4   \n",
       "541538    581498     85150   LADIES & GENTLEMEN METAL SIGN         1   \n",
       "541539    581498     85174               S/4 CACTI CANDLES         1   \n",
       "541540    581498       DOT                  DOTCOM POSTAGE         1   \n",
       "\n",
       "               InvoiceDate  UnitPrice  CustomerID         Country  TotalAmount  \n",
       "61624  2011-01-18 10:17:00       1.04     12346.0  United Kingdom    -77183.60  \n",
       "61619  2011-01-18 10:01:00       1.04     12346.0  United Kingdom     77183.60  \n",
       "428957 2011-10-31 12:25:00       3.75     12347.0         Iceland        45.00  \n",
       "72252  2011-01-26 14:30:00       1.25     12347.0         Iceland        12.50  \n",
       "72253  2011-01-26 14:30:00       3.75     12347.0         Iceland        15.00  \n",
       "...                    ...        ...         ...             ...          ...  \n",
       "541536 2011-12-09 10:26:00       4.13         NaN  United Kingdom        20.65  \n",
       "541537 2011-12-09 10:26:00       4.13         NaN  United Kingdom        16.52  \n",
       "541538 2011-12-09 10:26:00       4.96         NaN  United Kingdom         4.96  \n",
       "541539 2011-12-09 10:26:00      10.79         NaN  United Kingdom        10.79  \n",
       "541540 2011-12-09 10:26:00    1714.17         NaN  United Kingdom      1714.17  \n",
       "\n",
       "[529179 rows x 9 columns]"
      ]
     },
     "execution_count": 15,
     "metadata": {},
     "output_type": "execute_result"
    }
   ],
   "source": [
    "df = df.drop_duplicates(keep=False)\n",
    "\n",
    "df[duplicates].sort_values('CustomerID')"
   ]
  },
  {
   "cell_type": "code",
   "execution_count": 16,
   "metadata": {
    "colab": {
     "base_uri": "https://localhost:8080/",
     "height": 653
    },
    "id": "XewTSGtmNNGU",
    "outputId": "4388eeb5-cadf-4f1d-dca5-a02af161b40a"
   },
   "outputs": [
    {
     "data": {
      "text/html": [
       "<div>\n",
       "<style scoped>\n",
       "    .dataframe tbody tr th:only-of-type {\n",
       "        vertical-align: middle;\n",
       "    }\n",
       "\n",
       "    .dataframe tbody tr th {\n",
       "        vertical-align: top;\n",
       "    }\n",
       "\n",
       "    .dataframe thead th {\n",
       "        text-align: right;\n",
       "    }\n",
       "</style>\n",
       "<table border=\"1\" class=\"dataframe\">\n",
       "  <thead>\n",
       "    <tr style=\"text-align: right;\">\n",
       "      <th></th>\n",
       "      <th>InvoiceNo</th>\n",
       "      <th>StockCode</th>\n",
       "      <th>Description</th>\n",
       "      <th>Quantity</th>\n",
       "      <th>InvoiceDate</th>\n",
       "      <th>UnitPrice</th>\n",
       "      <th>CustomerID</th>\n",
       "      <th>Country</th>\n",
       "      <th>TotalAmount</th>\n",
       "    </tr>\n",
       "  </thead>\n",
       "  <tbody>\n",
       "    <tr>\n",
       "      <th>141</th>\n",
       "      <td>C536379</td>\n",
       "      <td>D</td>\n",
       "      <td>Discount</td>\n",
       "      <td>-1</td>\n",
       "      <td>2010-12-01 09:41:00</td>\n",
       "      <td>27.50</td>\n",
       "      <td>14527.0</td>\n",
       "      <td>United Kingdom</td>\n",
       "      <td>-27.50</td>\n",
       "    </tr>\n",
       "    <tr>\n",
       "      <th>9038</th>\n",
       "      <td>C537164</td>\n",
       "      <td>D</td>\n",
       "      <td>Discount</td>\n",
       "      <td>-1</td>\n",
       "      <td>2010-12-05 13:21:00</td>\n",
       "      <td>29.29</td>\n",
       "      <td>14527.0</td>\n",
       "      <td>United Kingdom</td>\n",
       "      <td>-29.29</td>\n",
       "    </tr>\n",
       "    <tr>\n",
       "      <th>14498</th>\n",
       "      <td>C537597</td>\n",
       "      <td>D</td>\n",
       "      <td>Discount</td>\n",
       "      <td>-1</td>\n",
       "      <td>2010-12-07 12:34:00</td>\n",
       "      <td>281.00</td>\n",
       "      <td>15498.0</td>\n",
       "      <td>United Kingdom</td>\n",
       "      <td>-281.00</td>\n",
       "    </tr>\n",
       "    <tr>\n",
       "      <th>19392</th>\n",
       "      <td>C537857</td>\n",
       "      <td>D</td>\n",
       "      <td>Discount</td>\n",
       "      <td>-1</td>\n",
       "      <td>2010-12-08 16:00:00</td>\n",
       "      <td>267.12</td>\n",
       "      <td>17340.0</td>\n",
       "      <td>United Kingdom</td>\n",
       "      <td>-267.12</td>\n",
       "    </tr>\n",
       "    <tr>\n",
       "      <th>31134</th>\n",
       "      <td>C538897</td>\n",
       "      <td>D</td>\n",
       "      <td>Discount</td>\n",
       "      <td>-1</td>\n",
       "      <td>2010-12-15 09:14:00</td>\n",
       "      <td>5.76</td>\n",
       "      <td>16422.0</td>\n",
       "      <td>United Kingdom</td>\n",
       "      <td>-5.76</td>\n",
       "    </tr>\n",
       "    <tr>\n",
       "      <th>...</th>\n",
       "      <td>...</td>\n",
       "      <td>...</td>\n",
       "      <td>...</td>\n",
       "      <td>...</td>\n",
       "      <td>...</td>\n",
       "      <td>...</td>\n",
       "      <td>...</td>\n",
       "      <td>...</td>\n",
       "      <td>...</td>\n",
       "    </tr>\n",
       "    <tr>\n",
       "      <th>479868</th>\n",
       "      <td>C577227</td>\n",
       "      <td>D</td>\n",
       "      <td>Discount</td>\n",
       "      <td>-1</td>\n",
       "      <td>2011-11-18 12:06:00</td>\n",
       "      <td>19.82</td>\n",
       "      <td>14527.0</td>\n",
       "      <td>United Kingdom</td>\n",
       "      <td>-19.82</td>\n",
       "    </tr>\n",
       "    <tr>\n",
       "      <th>479869</th>\n",
       "      <td>C577227</td>\n",
       "      <td>D</td>\n",
       "      <td>Discount</td>\n",
       "      <td>-1</td>\n",
       "      <td>2011-11-18 12:06:00</td>\n",
       "      <td>16.76</td>\n",
       "      <td>14527.0</td>\n",
       "      <td>United Kingdom</td>\n",
       "      <td>-16.76</td>\n",
       "    </tr>\n",
       "    <tr>\n",
       "      <th>493613</th>\n",
       "      <td>C578239</td>\n",
       "      <td>D</td>\n",
       "      <td>Discount</td>\n",
       "      <td>-1</td>\n",
       "      <td>2011-11-23 12:29:00</td>\n",
       "      <td>26.33</td>\n",
       "      <td>14912.0</td>\n",
       "      <td>Italy</td>\n",
       "      <td>-26.33</td>\n",
       "    </tr>\n",
       "    <tr>\n",
       "      <th>516221</th>\n",
       "      <td>C579884</td>\n",
       "      <td>D</td>\n",
       "      <td>Discount</td>\n",
       "      <td>-1</td>\n",
       "      <td>2011-11-30 17:34:00</td>\n",
       "      <td>20.53</td>\n",
       "      <td>14527.0</td>\n",
       "      <td>United Kingdom</td>\n",
       "      <td>-20.53</td>\n",
       "    </tr>\n",
       "    <tr>\n",
       "      <th>516455</th>\n",
       "      <td>C579908</td>\n",
       "      <td>D</td>\n",
       "      <td>Discount</td>\n",
       "      <td>-1</td>\n",
       "      <td>2011-12-01 08:49:00</td>\n",
       "      <td>28.68</td>\n",
       "      <td>14527.0</td>\n",
       "      <td>United Kingdom</td>\n",
       "      <td>-28.68</td>\n",
       "    </tr>\n",
       "  </tbody>\n",
       "</table>\n",
       "<p>77 rows × 9 columns</p>\n",
       "</div>"
      ],
      "text/plain": [
       "       InvoiceNo StockCode Description  Quantity         InvoiceDate  \\\n",
       "141      C536379         D    Discount        -1 2010-12-01 09:41:00   \n",
       "9038     C537164         D    Discount        -1 2010-12-05 13:21:00   \n",
       "14498    C537597         D    Discount        -1 2010-12-07 12:34:00   \n",
       "19392    C537857         D    Discount        -1 2010-12-08 16:00:00   \n",
       "31134    C538897         D    Discount        -1 2010-12-15 09:14:00   \n",
       "...          ...       ...         ...       ...                 ...   \n",
       "479868   C577227         D    Discount        -1 2011-11-18 12:06:00   \n",
       "479869   C577227         D    Discount        -1 2011-11-18 12:06:00   \n",
       "493613   C578239         D    Discount        -1 2011-11-23 12:29:00   \n",
       "516221   C579884         D    Discount        -1 2011-11-30 17:34:00   \n",
       "516455   C579908         D    Discount        -1 2011-12-01 08:49:00   \n",
       "\n",
       "        UnitPrice  CustomerID         Country  TotalAmount  \n",
       "141         27.50     14527.0  United Kingdom       -27.50  \n",
       "9038        29.29     14527.0  United Kingdom       -29.29  \n",
       "14498      281.00     15498.0  United Kingdom      -281.00  \n",
       "19392      267.12     17340.0  United Kingdom      -267.12  \n",
       "31134        5.76     16422.0  United Kingdom        -5.76  \n",
       "...           ...         ...             ...          ...  \n",
       "479868      19.82     14527.0  United Kingdom       -19.82  \n",
       "479869      16.76     14527.0  United Kingdom       -16.76  \n",
       "493613      26.33     14912.0           Italy       -26.33  \n",
       "516221      20.53     14527.0  United Kingdom       -20.53  \n",
       "516455      28.68     14527.0  United Kingdom       -28.68  \n",
       "\n",
       "[77 rows x 9 columns]"
      ]
     },
     "execution_count": 16,
     "metadata": {},
     "output_type": "execute_result"
    }
   ],
   "source": [
    "df[df['StockCode'] == 'D']"
   ]
  },
  {
   "cell_type": "code",
   "execution_count": 17,
   "metadata": {
    "colab": {
     "base_uri": "https://localhost:8080/",
     "height": 653
    },
    "id": "CWsmOPqgNNGU",
    "outputId": "da58355e-0276-4c51-92e6-316a34fe83af"
   },
   "outputs": [
    {
     "data": {
      "text/html": [
       "<div>\n",
       "<style scoped>\n",
       "    .dataframe tbody tr th:only-of-type {\n",
       "        vertical-align: middle;\n",
       "    }\n",
       "\n",
       "    .dataframe tbody tr th {\n",
       "        vertical-align: top;\n",
       "    }\n",
       "\n",
       "    .dataframe thead th {\n",
       "        text-align: right;\n",
       "    }\n",
       "</style>\n",
       "<table border=\"1\" class=\"dataframe\">\n",
       "  <thead>\n",
       "    <tr style=\"text-align: right;\">\n",
       "      <th></th>\n",
       "      <th>InvoiceNo</th>\n",
       "      <th>StockCode</th>\n",
       "      <th>Description</th>\n",
       "      <th>Quantity</th>\n",
       "      <th>InvoiceDate</th>\n",
       "      <th>UnitPrice</th>\n",
       "      <th>CustomerID</th>\n",
       "      <th>Country</th>\n",
       "      <th>TotalAmount</th>\n",
       "    </tr>\n",
       "  </thead>\n",
       "  <tbody>\n",
       "    <tr>\n",
       "      <th>2239</th>\n",
       "      <td>536569</td>\n",
       "      <td>M</td>\n",
       "      <td>Manual</td>\n",
       "      <td>1</td>\n",
       "      <td>2010-12-01 15:35:00</td>\n",
       "      <td>1.25</td>\n",
       "      <td>16274.0</td>\n",
       "      <td>United Kingdom</td>\n",
       "      <td>1.25</td>\n",
       "    </tr>\n",
       "    <tr>\n",
       "      <th>2250</th>\n",
       "      <td>536569</td>\n",
       "      <td>M</td>\n",
       "      <td>Manual</td>\n",
       "      <td>1</td>\n",
       "      <td>2010-12-01 15:35:00</td>\n",
       "      <td>18.95</td>\n",
       "      <td>16274.0</td>\n",
       "      <td>United Kingdom</td>\n",
       "      <td>18.95</td>\n",
       "    </tr>\n",
       "    <tr>\n",
       "      <th>5684</th>\n",
       "      <td>536865</td>\n",
       "      <td>M</td>\n",
       "      <td>Manual</td>\n",
       "      <td>1</td>\n",
       "      <td>2010-12-03 11:28:00</td>\n",
       "      <td>2.55</td>\n",
       "      <td>NaN</td>\n",
       "      <td>United Kingdom</td>\n",
       "      <td>2.55</td>\n",
       "    </tr>\n",
       "    <tr>\n",
       "      <th>6798</th>\n",
       "      <td>536981</td>\n",
       "      <td>M</td>\n",
       "      <td>Manual</td>\n",
       "      <td>2</td>\n",
       "      <td>2010-12-03 14:26:00</td>\n",
       "      <td>0.85</td>\n",
       "      <td>14723.0</td>\n",
       "      <td>United Kingdom</td>\n",
       "      <td>1.70</td>\n",
       "    </tr>\n",
       "    <tr>\n",
       "      <th>7976</th>\n",
       "      <td>537077</td>\n",
       "      <td>M</td>\n",
       "      <td>Manual</td>\n",
       "      <td>12</td>\n",
       "      <td>2010-12-05 11:59:00</td>\n",
       "      <td>0.42</td>\n",
       "      <td>17062.0</td>\n",
       "      <td>United Kingdom</td>\n",
       "      <td>5.04</td>\n",
       "    </tr>\n",
       "    <tr>\n",
       "      <th>...</th>\n",
       "      <td>...</td>\n",
       "      <td>...</td>\n",
       "      <td>...</td>\n",
       "      <td>...</td>\n",
       "      <td>...</td>\n",
       "      <td>...</td>\n",
       "      <td>...</td>\n",
       "      <td>...</td>\n",
       "      <td>...</td>\n",
       "    </tr>\n",
       "    <tr>\n",
       "      <th>531432</th>\n",
       "      <td>580956</td>\n",
       "      <td>M</td>\n",
       "      <td>Manual</td>\n",
       "      <td>4</td>\n",
       "      <td>2011-12-06 14:23:00</td>\n",
       "      <td>1.25</td>\n",
       "      <td>17841.0</td>\n",
       "      <td>United Kingdom</td>\n",
       "      <td>5.00</td>\n",
       "    </tr>\n",
       "    <tr>\n",
       "      <th>533082</th>\n",
       "      <td>C581009</td>\n",
       "      <td>M</td>\n",
       "      <td>Manual</td>\n",
       "      <td>-1</td>\n",
       "      <td>2011-12-07 09:15:00</td>\n",
       "      <td>125.00</td>\n",
       "      <td>16971.0</td>\n",
       "      <td>United Kingdom</td>\n",
       "      <td>-125.00</td>\n",
       "    </tr>\n",
       "    <tr>\n",
       "      <th>534308</th>\n",
       "      <td>C581145</td>\n",
       "      <td>M</td>\n",
       "      <td>Manual</td>\n",
       "      <td>-1</td>\n",
       "      <td>2011-12-07 13:48:00</td>\n",
       "      <td>9.95</td>\n",
       "      <td>17490.0</td>\n",
       "      <td>United Kingdom</td>\n",
       "      <td>-9.95</td>\n",
       "    </tr>\n",
       "    <tr>\n",
       "      <th>538321</th>\n",
       "      <td>581405</td>\n",
       "      <td>M</td>\n",
       "      <td>Manual</td>\n",
       "      <td>3</td>\n",
       "      <td>2011-12-08 13:50:00</td>\n",
       "      <td>0.42</td>\n",
       "      <td>13521.0</td>\n",
       "      <td>United Kingdom</td>\n",
       "      <td>1.26</td>\n",
       "    </tr>\n",
       "    <tr>\n",
       "      <th>541541</th>\n",
       "      <td>C581499</td>\n",
       "      <td>M</td>\n",
       "      <td>Manual</td>\n",
       "      <td>-1</td>\n",
       "      <td>2011-12-09 10:28:00</td>\n",
       "      <td>224.69</td>\n",
       "      <td>15498.0</td>\n",
       "      <td>United Kingdom</td>\n",
       "      <td>-224.69</td>\n",
       "    </tr>\n",
       "  </tbody>\n",
       "</table>\n",
       "<p>559 rows × 9 columns</p>\n",
       "</div>"
      ],
      "text/plain": [
       "       InvoiceNo StockCode Description  Quantity         InvoiceDate  \\\n",
       "2239      536569         M      Manual         1 2010-12-01 15:35:00   \n",
       "2250      536569         M      Manual         1 2010-12-01 15:35:00   \n",
       "5684      536865         M      Manual         1 2010-12-03 11:28:00   \n",
       "6798      536981         M      Manual         2 2010-12-03 14:26:00   \n",
       "7976      537077         M      Manual        12 2010-12-05 11:59:00   \n",
       "...          ...       ...         ...       ...                 ...   \n",
       "531432    580956         M      Manual         4 2011-12-06 14:23:00   \n",
       "533082   C581009         M      Manual        -1 2011-12-07 09:15:00   \n",
       "534308   C581145         M      Manual        -1 2011-12-07 13:48:00   \n",
       "538321    581405         M      Manual         3 2011-12-08 13:50:00   \n",
       "541541   C581499         M      Manual        -1 2011-12-09 10:28:00   \n",
       "\n",
       "        UnitPrice  CustomerID         Country  TotalAmount  \n",
       "2239         1.25     16274.0  United Kingdom         1.25  \n",
       "2250        18.95     16274.0  United Kingdom        18.95  \n",
       "5684         2.55         NaN  United Kingdom         2.55  \n",
       "6798         0.85     14723.0  United Kingdom         1.70  \n",
       "7976         0.42     17062.0  United Kingdom         5.04  \n",
       "...           ...         ...             ...          ...  \n",
       "531432       1.25     17841.0  United Kingdom         5.00  \n",
       "533082     125.00     16971.0  United Kingdom      -125.00  \n",
       "534308       9.95     17490.0  United Kingdom        -9.95  \n",
       "538321       0.42     13521.0  United Kingdom         1.26  \n",
       "541541     224.69     15498.0  United Kingdom      -224.69  \n",
       "\n",
       "[559 rows x 9 columns]"
      ]
     },
     "execution_count": 17,
     "metadata": {},
     "output_type": "execute_result"
    }
   ],
   "source": [
    "df[df['StockCode'] == 'M']"
   ]
  },
  {
   "cell_type": "code",
   "execution_count": 18,
   "metadata": {
    "colab": {
     "base_uri": "https://localhost:8080/"
    },
    "id": "BXDe4t-HNNGV",
    "outputId": "439e57dd-c48a-4c0f-ff98-ac645ee03d49"
   },
   "outputs": [
    {
     "data": {
      "text/plain": [
       "Manual             560\n",
       "Discount            77\n",
       "SAMPLES             61\n",
       "Adjust bad debt      3\n",
       "Name: Description, dtype: int64"
      ]
     },
     "execution_count": 18,
     "metadata": {},
     "output_type": "execute_result"
    }
   ],
   "source": [
    "one_letter = df['StockCode'].str.len() == 1\n",
    "df[one_letter]['Description'].value_counts()"
   ]
  },
  {
   "cell_type": "code",
   "execution_count": 19,
   "metadata": {
    "id": "5qldYNnkNNGW"
   },
   "outputs": [],
   "source": [
    "df = df[~one_letter]"
   ]
  },
  {
   "cell_type": "markdown",
   "metadata": {
    "id": "BB8RqHFb-HWN"
   },
   "source": [
    "## Cancelled Items "
   ]
  },
  {
   "cell_type": "code",
   "execution_count": 20,
   "metadata": {
    "id": "HXqBF0wcNNGV"
   },
   "outputs": [],
   "source": [
    "negative = df['Quantity'] <= 0\n",
    "df = df[~negative]"
   ]
  },
  {
   "cell_type": "code",
   "execution_count": 21,
   "metadata": {
    "colab": {
     "base_uri": "https://localhost:8080/",
     "height": 874
    },
    "id": "F02YY0yDNNGV",
    "outputId": "9da7af4a-25de-4240-9a8c-f3bfd73fdb0c"
   },
   "outputs": [
    {
     "data": {
      "text/html": [
       "<div>\n",
       "<style scoped>\n",
       "    .dataframe tbody tr th:only-of-type {\n",
       "        vertical-align: middle;\n",
       "    }\n",
       "\n",
       "    .dataframe tbody tr th {\n",
       "        vertical-align: top;\n",
       "    }\n",
       "\n",
       "    .dataframe thead th {\n",
       "        text-align: right;\n",
       "    }\n",
       "</style>\n",
       "<table border=\"1\" class=\"dataframe\">\n",
       "  <thead>\n",
       "    <tr style=\"text-align: right;\">\n",
       "      <th></th>\n",
       "      <th>InvoiceNo</th>\n",
       "      <th>StockCode</th>\n",
       "      <th>Description</th>\n",
       "      <th>Quantity</th>\n",
       "      <th>InvoiceDate</th>\n",
       "      <th>UnitPrice</th>\n",
       "      <th>CustomerID</th>\n",
       "      <th>Country</th>\n",
       "      <th>TotalAmount</th>\n",
       "    </tr>\n",
       "  </thead>\n",
       "  <tbody>\n",
       "    <tr>\n",
       "      <th>335614</th>\n",
       "      <td>566290</td>\n",
       "      <td>23199</td>\n",
       "      <td>JUMBO BAG APPLES</td>\n",
       "      <td>1</td>\n",
       "      <td>2011-09-11 15:24:00</td>\n",
       "      <td>2.08</td>\n",
       "      <td>14456.0</td>\n",
       "      <td>United Kingdom</td>\n",
       "      <td>2.08</td>\n",
       "    </tr>\n",
       "    <tr>\n",
       "      <th>466773</th>\n",
       "      <td>576329</td>\n",
       "      <td>22646</td>\n",
       "      <td>CERAMIC STRAWBERRY CAKE MONEY BANK</td>\n",
       "      <td>1</td>\n",
       "      <td>2011-11-14 15:22:00</td>\n",
       "      <td>3.29</td>\n",
       "      <td>NaN</td>\n",
       "      <td>United Kingdom</td>\n",
       "      <td>3.29</td>\n",
       "    </tr>\n",
       "    <tr>\n",
       "      <th>466772</th>\n",
       "      <td>576329</td>\n",
       "      <td>22645</td>\n",
       "      <td>CERAMIC HEART FAIRY CAKE MONEY BANK</td>\n",
       "      <td>1</td>\n",
       "      <td>2011-11-14 15:22:00</td>\n",
       "      <td>3.29</td>\n",
       "      <td>NaN</td>\n",
       "      <td>United Kingdom</td>\n",
       "      <td>3.29</td>\n",
       "    </tr>\n",
       "    <tr>\n",
       "      <th>466771</th>\n",
       "      <td>576329</td>\n",
       "      <td>22633</td>\n",
       "      <td>HAND WARMER UNION JACK</td>\n",
       "      <td>1</td>\n",
       "      <td>2011-11-14 15:22:00</td>\n",
       "      <td>4.13</td>\n",
       "      <td>NaN</td>\n",
       "      <td>United Kingdom</td>\n",
       "      <td>4.13</td>\n",
       "    </tr>\n",
       "    <tr>\n",
       "      <th>466770</th>\n",
       "      <td>576329</td>\n",
       "      <td>22631</td>\n",
       "      <td>CIRCUS PARADE LUNCH BOX</td>\n",
       "      <td>1</td>\n",
       "      <td>2011-11-14 15:22:00</td>\n",
       "      <td>4.13</td>\n",
       "      <td>NaN</td>\n",
       "      <td>United Kingdom</td>\n",
       "      <td>4.13</td>\n",
       "    </tr>\n",
       "    <tr>\n",
       "      <th>...</th>\n",
       "      <td>...</td>\n",
       "      <td>...</td>\n",
       "      <td>...</td>\n",
       "      <td>...</td>\n",
       "      <td>...</td>\n",
       "      <td>...</td>\n",
       "      <td>...</td>\n",
       "      <td>...</td>\n",
       "      <td>...</td>\n",
       "    </tr>\n",
       "    <tr>\n",
       "      <th>97432</th>\n",
       "      <td>544612</td>\n",
       "      <td>22053</td>\n",
       "      <td>EMPIRE DESIGN ROSETTE</td>\n",
       "      <td>3906</td>\n",
       "      <td>2011-02-22 10:43:00</td>\n",
       "      <td>0.82</td>\n",
       "      <td>18087.0</td>\n",
       "      <td>United Kingdom</td>\n",
       "      <td>3202.92</td>\n",
       "    </tr>\n",
       "    <tr>\n",
       "      <th>206121</th>\n",
       "      <td>554868</td>\n",
       "      <td>22197</td>\n",
       "      <td>SMALL POPCORN HOLDER</td>\n",
       "      <td>4300</td>\n",
       "      <td>2011-05-27 10:52:00</td>\n",
       "      <td>0.72</td>\n",
       "      <td>13135.0</td>\n",
       "      <td>United Kingdom</td>\n",
       "      <td>3096.00</td>\n",
       "    </tr>\n",
       "    <tr>\n",
       "      <th>421632</th>\n",
       "      <td>573008</td>\n",
       "      <td>84077</td>\n",
       "      <td>WORLD WAR 2 GLIDERS ASSTD DESIGNS</td>\n",
       "      <td>4800</td>\n",
       "      <td>2011-10-27 12:26:00</td>\n",
       "      <td>0.21</td>\n",
       "      <td>12901.0</td>\n",
       "      <td>United Kingdom</td>\n",
       "      <td>1008.00</td>\n",
       "    </tr>\n",
       "    <tr>\n",
       "      <th>61619</th>\n",
       "      <td>541431</td>\n",
       "      <td>23166</td>\n",
       "      <td>MEDIUM CERAMIC TOP STORAGE JAR</td>\n",
       "      <td>74215</td>\n",
       "      <td>2011-01-18 10:01:00</td>\n",
       "      <td>1.04</td>\n",
       "      <td>12346.0</td>\n",
       "      <td>United Kingdom</td>\n",
       "      <td>77183.60</td>\n",
       "    </tr>\n",
       "    <tr>\n",
       "      <th>540421</th>\n",
       "      <td>581483</td>\n",
       "      <td>23843</td>\n",
       "      <td>PAPER CRAFT , LITTLE BIRDIE</td>\n",
       "      <td>80995</td>\n",
       "      <td>2011-12-09 09:15:00</td>\n",
       "      <td>2.08</td>\n",
       "      <td>16446.0</td>\n",
       "      <td>United Kingdom</td>\n",
       "      <td>168469.60</td>\n",
       "    </tr>\n",
       "  </tbody>\n",
       "</table>\n",
       "<p>519717 rows × 9 columns</p>\n",
       "</div>"
      ],
      "text/plain": [
       "       InvoiceNo StockCode                          Description  Quantity  \\\n",
       "335614    566290     23199                     JUMBO BAG APPLES         1   \n",
       "466773    576329     22646   CERAMIC STRAWBERRY CAKE MONEY BANK         1   \n",
       "466772    576329     22645  CERAMIC HEART FAIRY CAKE MONEY BANK         1   \n",
       "466771    576329     22633               HAND WARMER UNION JACK         1   \n",
       "466770    576329     22631             CIRCUS PARADE LUNCH BOX          1   \n",
       "...          ...       ...                                  ...       ...   \n",
       "97432     544612     22053                EMPIRE DESIGN ROSETTE      3906   \n",
       "206121    554868     22197                 SMALL POPCORN HOLDER      4300   \n",
       "421632    573008     84077    WORLD WAR 2 GLIDERS ASSTD DESIGNS      4800   \n",
       "61619     541431     23166       MEDIUM CERAMIC TOP STORAGE JAR     74215   \n",
       "540421    581483     23843          PAPER CRAFT , LITTLE BIRDIE     80995   \n",
       "\n",
       "               InvoiceDate  UnitPrice  CustomerID         Country  TotalAmount  \n",
       "335614 2011-09-11 15:24:00       2.08     14456.0  United Kingdom         2.08  \n",
       "466773 2011-11-14 15:22:00       3.29         NaN  United Kingdom         3.29  \n",
       "466772 2011-11-14 15:22:00       3.29         NaN  United Kingdom         3.29  \n",
       "466771 2011-11-14 15:22:00       4.13         NaN  United Kingdom         4.13  \n",
       "466770 2011-11-14 15:22:00       4.13         NaN  United Kingdom         4.13  \n",
       "...                    ...        ...         ...             ...          ...  \n",
       "97432  2011-02-22 10:43:00       0.82     18087.0  United Kingdom      3202.92  \n",
       "206121 2011-05-27 10:52:00       0.72     13135.0  United Kingdom      3096.00  \n",
       "421632 2011-10-27 12:26:00       0.21     12901.0  United Kingdom      1008.00  \n",
       "61619  2011-01-18 10:01:00       1.04     12346.0  United Kingdom     77183.60  \n",
       "540421 2011-12-09 09:15:00       2.08     16446.0  United Kingdom    168469.60  \n",
       "\n",
       "[519717 rows x 9 columns]"
      ]
     },
     "execution_count": 21,
     "metadata": {},
     "output_type": "execute_result"
    }
   ],
   "source": [
    "#Checking to ensure all item cancelation have been removed\n",
    "df.sort_values(by='Quantity')"
   ]
  },
  {
   "cell_type": "code",
   "execution_count": 22,
   "metadata": {
    "colab": {
     "base_uri": "https://localhost:8080/",
     "height": 401
    },
    "id": "IuO7pu0KNNGW",
    "outputId": "7006911b-9a73-4a31-f089-6f66067bf163"
   },
   "outputs": [
    {
     "data": {
      "text/html": [
       "<div>\n",
       "<style scoped>\n",
       "    .dataframe tbody tr th:only-of-type {\n",
       "        vertical-align: middle;\n",
       "    }\n",
       "\n",
       "    .dataframe tbody tr th {\n",
       "        vertical-align: top;\n",
       "    }\n",
       "\n",
       "    .dataframe thead th {\n",
       "        text-align: right;\n",
       "    }\n",
       "</style>\n",
       "<table border=\"1\" class=\"dataframe\">\n",
       "  <thead>\n",
       "    <tr style=\"text-align: right;\">\n",
       "      <th></th>\n",
       "      <th>InvoiceNo</th>\n",
       "      <th>StockCode</th>\n",
       "      <th>Description</th>\n",
       "      <th>Quantity</th>\n",
       "      <th>InvoiceDate</th>\n",
       "      <th>UnitPrice</th>\n",
       "      <th>CustomerID</th>\n",
       "      <th>Country</th>\n",
       "      <th>TotalAmount</th>\n",
       "    </tr>\n",
       "  </thead>\n",
       "  <tbody>\n",
       "    <tr>\n",
       "      <th>0</th>\n",
       "      <td>536365</td>\n",
       "      <td>85123A</td>\n",
       "      <td>WHITE HANGING HEART T-LIGHT HOLDER</td>\n",
       "      <td>6</td>\n",
       "      <td>2010-12-01 08:26:00</td>\n",
       "      <td>2.55</td>\n",
       "      <td>17850.0</td>\n",
       "      <td>United Kingdom</td>\n",
       "      <td>15.30</td>\n",
       "    </tr>\n",
       "    <tr>\n",
       "      <th>1</th>\n",
       "      <td>536365</td>\n",
       "      <td>71053</td>\n",
       "      <td>WHITE METAL LANTERN</td>\n",
       "      <td>6</td>\n",
       "      <td>2010-12-01 08:26:00</td>\n",
       "      <td>3.39</td>\n",
       "      <td>17850.0</td>\n",
       "      <td>United Kingdom</td>\n",
       "      <td>20.34</td>\n",
       "    </tr>\n",
       "    <tr>\n",
       "      <th>2</th>\n",
       "      <td>536365</td>\n",
       "      <td>84406B</td>\n",
       "      <td>CREAM CUPID HEARTS COAT HANGER</td>\n",
       "      <td>8</td>\n",
       "      <td>2010-12-01 08:26:00</td>\n",
       "      <td>2.75</td>\n",
       "      <td>17850.0</td>\n",
       "      <td>United Kingdom</td>\n",
       "      <td>22.00</td>\n",
       "    </tr>\n",
       "    <tr>\n",
       "      <th>3</th>\n",
       "      <td>536365</td>\n",
       "      <td>84029G</td>\n",
       "      <td>KNITTED UNION FLAG HOT WATER BOTTLE</td>\n",
       "      <td>6</td>\n",
       "      <td>2010-12-01 08:26:00</td>\n",
       "      <td>3.39</td>\n",
       "      <td>17850.0</td>\n",
       "      <td>United Kingdom</td>\n",
       "      <td>20.34</td>\n",
       "    </tr>\n",
       "    <tr>\n",
       "      <th>4</th>\n",
       "      <td>536365</td>\n",
       "      <td>84029E</td>\n",
       "      <td>RED WOOLLY HOTTIE WHITE HEART.</td>\n",
       "      <td>6</td>\n",
       "      <td>2010-12-01 08:26:00</td>\n",
       "      <td>3.39</td>\n",
       "      <td>17850.0</td>\n",
       "      <td>United Kingdom</td>\n",
       "      <td>20.34</td>\n",
       "    </tr>\n",
       "  </tbody>\n",
       "</table>\n",
       "</div>"
      ],
      "text/plain": [
       "  InvoiceNo StockCode                          Description  Quantity  \\\n",
       "0    536365    85123A   WHITE HANGING HEART T-LIGHT HOLDER         6   \n",
       "1    536365     71053                  WHITE METAL LANTERN         6   \n",
       "2    536365    84406B       CREAM CUPID HEARTS COAT HANGER         8   \n",
       "3    536365    84029G  KNITTED UNION FLAG HOT WATER BOTTLE         6   \n",
       "4    536365    84029E       RED WOOLLY HOTTIE WHITE HEART.         6   \n",
       "\n",
       "          InvoiceDate  UnitPrice  CustomerID         Country  TotalAmount  \n",
       "0 2010-12-01 08:26:00       2.55     17850.0  United Kingdom        15.30  \n",
       "1 2010-12-01 08:26:00       3.39     17850.0  United Kingdom        20.34  \n",
       "2 2010-12-01 08:26:00       2.75     17850.0  United Kingdom        22.00  \n",
       "3 2010-12-01 08:26:00       3.39     17850.0  United Kingdom        20.34  \n",
       "4 2010-12-01 08:26:00       3.39     17850.0  United Kingdom        20.34  "
      ]
     },
     "execution_count": 22,
     "metadata": {},
     "output_type": "execute_result"
    }
   ],
   "source": [
    "df.head()"
   ]
  },
  {
   "cell_type": "code",
   "execution_count": 23,
   "metadata": {
    "id": "FhyrsydRNNGW"
   },
   "outputs": [],
   "source": [
    "more_than_one = df['Quantity'] > 1\n",
    "df = df[more_than_one] "
   ]
  },
  {
   "cell_type": "code",
   "execution_count": 24,
   "metadata": {
    "id": "oWKIZY5hNNGX"
   },
   "outputs": [],
   "source": [
    "null = df.CustomerID.isna()\n",
    "df['CustomerID'] = df['CustomerID'].fillna(0)"
   ]
  },
  {
   "cell_type": "markdown",
   "metadata": {
    "id": "ZOs7I8ls_tiE"
   },
   "source": [
    "## Change `CustomerID` column to `int` data type"
   ]
  },
  {
   "cell_type": "code",
   "execution_count": 25,
   "metadata": {
    "id": "LvEa4eKxNNGX"
   },
   "outputs": [],
   "source": [
    "df['CustomerID'] = df['CustomerID'].astype('int')"
   ]
  },
  {
   "cell_type": "code",
   "execution_count": 26,
   "metadata": {
    "colab": {
     "base_uri": "https://localhost:8080/",
     "height": 401
    },
    "id": "Bq5xaRIVNNGX",
    "outputId": "3daee830-1a1c-4332-d68d-e3e671c4701f"
   },
   "outputs": [
    {
     "data": {
      "text/html": [
       "<div>\n",
       "<style scoped>\n",
       "    .dataframe tbody tr th:only-of-type {\n",
       "        vertical-align: middle;\n",
       "    }\n",
       "\n",
       "    .dataframe tbody tr th {\n",
       "        vertical-align: top;\n",
       "    }\n",
       "\n",
       "    .dataframe thead th {\n",
       "        text-align: right;\n",
       "    }\n",
       "</style>\n",
       "<table border=\"1\" class=\"dataframe\">\n",
       "  <thead>\n",
       "    <tr style=\"text-align: right;\">\n",
       "      <th></th>\n",
       "      <th>InvoiceNo</th>\n",
       "      <th>StockCode</th>\n",
       "      <th>Description</th>\n",
       "      <th>Quantity</th>\n",
       "      <th>InvoiceDate</th>\n",
       "      <th>UnitPrice</th>\n",
       "      <th>CustomerID</th>\n",
       "      <th>Country</th>\n",
       "      <th>TotalAmount</th>\n",
       "    </tr>\n",
       "  </thead>\n",
       "  <tbody>\n",
       "    <tr>\n",
       "      <th>0</th>\n",
       "      <td>536365</td>\n",
       "      <td>85123A</td>\n",
       "      <td>WHITE HANGING HEART T-LIGHT HOLDER</td>\n",
       "      <td>6</td>\n",
       "      <td>2010-12-01 08:26:00</td>\n",
       "      <td>2.55</td>\n",
       "      <td>17850</td>\n",
       "      <td>United Kingdom</td>\n",
       "      <td>15.30</td>\n",
       "    </tr>\n",
       "    <tr>\n",
       "      <th>1</th>\n",
       "      <td>536365</td>\n",
       "      <td>71053</td>\n",
       "      <td>WHITE METAL LANTERN</td>\n",
       "      <td>6</td>\n",
       "      <td>2010-12-01 08:26:00</td>\n",
       "      <td>3.39</td>\n",
       "      <td>17850</td>\n",
       "      <td>United Kingdom</td>\n",
       "      <td>20.34</td>\n",
       "    </tr>\n",
       "    <tr>\n",
       "      <th>2</th>\n",
       "      <td>536365</td>\n",
       "      <td>84406B</td>\n",
       "      <td>CREAM CUPID HEARTS COAT HANGER</td>\n",
       "      <td>8</td>\n",
       "      <td>2010-12-01 08:26:00</td>\n",
       "      <td>2.75</td>\n",
       "      <td>17850</td>\n",
       "      <td>United Kingdom</td>\n",
       "      <td>22.00</td>\n",
       "    </tr>\n",
       "    <tr>\n",
       "      <th>3</th>\n",
       "      <td>536365</td>\n",
       "      <td>84029G</td>\n",
       "      <td>KNITTED UNION FLAG HOT WATER BOTTLE</td>\n",
       "      <td>6</td>\n",
       "      <td>2010-12-01 08:26:00</td>\n",
       "      <td>3.39</td>\n",
       "      <td>17850</td>\n",
       "      <td>United Kingdom</td>\n",
       "      <td>20.34</td>\n",
       "    </tr>\n",
       "    <tr>\n",
       "      <th>4</th>\n",
       "      <td>536365</td>\n",
       "      <td>84029E</td>\n",
       "      <td>RED WOOLLY HOTTIE WHITE HEART.</td>\n",
       "      <td>6</td>\n",
       "      <td>2010-12-01 08:26:00</td>\n",
       "      <td>3.39</td>\n",
       "      <td>17850</td>\n",
       "      <td>United Kingdom</td>\n",
       "      <td>20.34</td>\n",
       "    </tr>\n",
       "  </tbody>\n",
       "</table>\n",
       "</div>"
      ],
      "text/plain": [
       "  InvoiceNo StockCode                          Description  Quantity  \\\n",
       "0    536365    85123A   WHITE HANGING HEART T-LIGHT HOLDER         6   \n",
       "1    536365     71053                  WHITE METAL LANTERN         6   \n",
       "2    536365    84406B       CREAM CUPID HEARTS COAT HANGER         8   \n",
       "3    536365    84029G  KNITTED UNION FLAG HOT WATER BOTTLE         6   \n",
       "4    536365    84029E       RED WOOLLY HOTTIE WHITE HEART.         6   \n",
       "\n",
       "          InvoiceDate  UnitPrice  CustomerID         Country  TotalAmount  \n",
       "0 2010-12-01 08:26:00       2.55       17850  United Kingdom        15.30  \n",
       "1 2010-12-01 08:26:00       3.39       17850  United Kingdom        20.34  \n",
       "2 2010-12-01 08:26:00       2.75       17850  United Kingdom        22.00  \n",
       "3 2010-12-01 08:26:00       3.39       17850  United Kingdom        20.34  \n",
       "4 2010-12-01 08:26:00       3.39       17850  United Kingdom        20.34  "
      ]
     },
     "execution_count": 26,
     "metadata": {},
     "output_type": "execute_result"
    }
   ],
   "source": [
    "df.head()"
   ]
  },
  {
   "cell_type": "code",
   "execution_count": 27,
   "metadata": {
    "id": "RfvnAEBvNNGY"
   },
   "outputs": [],
   "source": [
    "df['Year'] = df['InvoiceDate'].dt.year"
   ]
  },
  {
   "cell_type": "code",
   "execution_count": 28,
   "metadata": {
    "id": "Co0IR37zNNGd"
   },
   "outputs": [],
   "source": [
    "df['Hour'] = df['InvoiceDate'].dt.hour"
   ]
  },
  {
   "cell_type": "code",
   "execution_count": 29,
   "metadata": {
    "id": "PzqanvTJNNGf"
   },
   "outputs": [],
   "source": [
    "df['Month'] = df['InvoiceDate'].dt.month"
   ]
  },
  {
   "cell_type": "markdown",
   "metadata": {
    "id": "lfP9EYRTB9-l"
   },
   "source": [
    "# Exploratory Data Analysis"
   ]
  },
  {
   "cell_type": "markdown",
   "metadata": {
    "id": "lFhNU4eJCE0F"
   },
   "source": [
    "## Top Five Customers By Country\n",
    "\n",
    "---\n",
    "\n"
   ]
  },
  {
   "cell_type": "code",
   "execution_count": 30,
   "metadata": {
    "id": "xjuaO2oNNNGY"
   },
   "outputs": [],
   "source": [
    "customers_country = df.groupby('Country').CustomerID.nunique().reset_index()\n",
    "customers_country.columns = ['Country', 'Customers']\n",
    "customers_country = customers_country.sort_values(by='Customers', ascending=False).head()"
   ]
  },
  {
   "cell_type": "code",
   "execution_count": 31,
   "metadata": {
    "colab": {
     "base_uri": "https://localhost:8080/",
     "height": 564
    },
    "id": "SGGHi7AFNNGZ",
    "outputId": "69d09465-bedc-469b-e7c9-f11f652e84d9"
   },
   "outputs": [
    {
     "data": {
      "image/png": "[encoded data removed]",
      "text/plain": [
       "<Figure size 1440x720 with 1 Axes>"
      ]
     },
     "metadata": {
      "needs_background": "light"
     },
     "output_type": "display_data"
    }
   ],
   "source": [
    "fig = plt.figure(figsize=(20,10))\n",
    "sns.barplot(x='Country', y='Customers', data=customers_country)\n",
    "plt.xticks(rotation=45, color='g', fontsize=20)\n",
    "plt.yticks(color='g', fontsize=20)\n",
    "plt.title('Top 5 Customers By Country', fontsize=30)\n",
    "plt.xlabel('Countries', fontsize=20, color='r')\n",
    "plt.ylabel('Number of Customers', fontsize=20, color='r')\n",
    "plt.savefig('Most_Customers_By_Country.png')\n",
    "plt.show()"
   ]
  },
  {
   "cell_type": "markdown",
   "metadata": {
    "id": "TkfrelphGEHU"
   },
   "source": [
    "## Top Five Orders By Country"
   ]
  },
  {
   "cell_type": "code",
   "execution_count": 32,
   "metadata": {
    "id": "ktJo9kvZNNGa",
    "scrolled": true
   },
   "outputs": [],
   "source": [
    "orders_country = df.groupby('Country').InvoiceNo.nunique().reset_index()\n",
    "orders_country.columns = ['Country', 'Count']\n",
    "orders_country = orders_country.sort_values(by='Count', ascending=False)\n",
    "orders_country = orders_country.head()\n"
   ]
  },
  {
   "cell_type": "code",
   "execution_count": 33,
   "metadata": {
    "colab": {
     "base_uri": "https://localhost:8080/",
     "height": 445
    },
    "id": "8rpwcxdcNNGa",
    "outputId": "817b4660-376a-470d-ef11-bf845b3d9b75"
   },
   "outputs": [
    {
     "data": {
      "image/png": "[encoded data removed]",
      "text/plain": [
       "<Figure size 1440x720 with 1 Axes>"
      ]
     },
     "metadata": {
      "needs_background": "light"
     },
     "output_type": "display_data"
    }
   ],
   "source": [
    "fig = plt.figure(figsize=(20,10))\n",
    "sns.barplot(y='Country', x='Count', data=orders_country)\n",
    "plt.xticks(fontsize=20, color='blue')\n",
    "plt.yticks(fontsize=20, color='blue')\n",
    "plt.title('Top Five Online Orders By Country', fontsize=30)\n",
    "plt.xlabel('ORDERS', fontsize=20, color='red')\n",
    "plt.ylabel('COUNTRY', fontsize=20, color='red')\n",
    "plt.savefig('Most_Orders_By_Country.png')\n",
    "plt.show()"
   ]
  },
  {
   "cell_type": "code",
   "execution_count": 34,
   "metadata": {
    "id": "CSmRaO_SNNGb"
   },
   "outputs": [],
   "source": [
    "orders = df.groupby('Description').InvoiceNo.nunique().reset_index()\n",
    "orders.columns = ['product', 'item_count']\n",
    "orders\n",
    "orders = orders.sort_values(by='item_count', ascending=False)\n",
    "top5 = orders.head(5)"
   ]
  },
  {
   "cell_type": "markdown",
   "metadata": {
    "id": "zKNxqte2JDqw"
   },
   "source": [
    "## Most Item Ordered"
   ]
  },
  {
   "cell_type": "code",
   "execution_count": 35,
   "metadata": {
    "colab": {
     "base_uri": "https://localhost:8080/",
     "height": 379
    },
    "id": "pYXRw1I4NNGb",
    "outputId": "13b9c51f-99d2-4339-bda3-d66b44529f55"
   },
   "outputs": [
    {
     "data": {
      "image/png": "[encoded data removed]",
      "text/plain": [
       "<Figure size 1440x720 with 1 Axes>"
      ]
     },
     "metadata": {
      "needs_background": "light"
     },
     "output_type": "display_data"
    }
   ],
   "source": [
    "fig = plt.figure(figsize=(20,10))\n",
    "sns.barplot(y='product', x='item_count', data=top5)\n",
    "plt.xticks(fontsize=20, color='g')\n",
    "plt.yticks(fontsize=20, color='g')\n",
    "plt.title('Most Item ordered', fontsize=30, color='b')\n",
    "plt.xlabel('ITEMS SOLD', fontsize=25, color='b')\n",
    "plt.ylabel('PRODUCT', fontsize=20, color='b')\n",
    "plt.savefig('Most_Item_Ordered.png')\n",
    "plt.show()"
   ]
  },
  {
   "cell_type": "markdown",
   "metadata": {
    "id": "kw697ptII0GP"
   },
   "source": [
    "## Most Non-UK Customers By Orders Placed"
   ]
  },
  {
   "cell_type": "code",
   "execution_count": 36,
   "metadata": {
    "colab": {
     "base_uri": "https://localhost:8080/",
     "height": 204
    },
    "id": "Qf4nl_20NNGb",
    "outputId": "eb25feb4-c2c7-4a02-f948-5fbd182b80ee",
    "scrolled": true
   },
   "outputs": [
    {
     "data": {
      "text/html": [
       "<div>\n",
       "<style scoped>\n",
       "    .dataframe tbody tr th:only-of-type {\n",
       "        vertical-align: middle;\n",
       "    }\n",
       "\n",
       "    .dataframe tbody tr th {\n",
       "        vertical-align: top;\n",
       "    }\n",
       "\n",
       "    .dataframe thead th {\n",
       "        text-align: right;\n",
       "    }\n",
       "</style>\n",
       "<table border=\"1\" class=\"dataframe\">\n",
       "  <thead>\n",
       "    <tr style=\"text-align: right;\">\n",
       "      <th></th>\n",
       "      <th>Country</th>\n",
       "      <th>Orders</th>\n",
       "    </tr>\n",
       "  </thead>\n",
       "  <tbody>\n",
       "    <tr>\n",
       "      <th>14</th>\n",
       "      <td>Germany</td>\n",
       "      <td>445</td>\n",
       "    </tr>\n",
       "    <tr>\n",
       "      <th>13</th>\n",
       "      <td>France</td>\n",
       "      <td>384</td>\n",
       "    </tr>\n",
       "    <tr>\n",
       "      <th>10</th>\n",
       "      <td>EIRE</td>\n",
       "      <td>281</td>\n",
       "    </tr>\n",
       "    <tr>\n",
       "      <th>3</th>\n",
       "      <td>Belgium</td>\n",
       "      <td>98</td>\n",
       "    </tr>\n",
       "    <tr>\n",
       "      <th>31</th>\n",
       "      <td>Spain</td>\n",
       "      <td>90</td>\n",
       "    </tr>\n",
       "  </tbody>\n",
       "</table>\n",
       "</div>"
      ],
      "text/plain": [
       "    Country  Orders\n",
       "14  Germany     445\n",
       "13   France     384\n",
       "10     EIRE     281\n",
       "3   Belgium      98\n",
       "31    Spain      90"
      ]
     },
     "execution_count": 36,
     "metadata": {},
     "output_type": "execute_result"
    }
   ],
   "source": [
    "non_uk = df[df['Country'] != 'United Kingdom']\n",
    "non_uk = non_uk.groupby('Country').InvoiceNo.nunique().reset_index()\n",
    "non_uk.columns = ['Country', 'Orders']\n",
    "non_uk = non_uk.sort_values(by='Orders', ascending=False)\n",
    "non_uk_top_5 = non_uk.head()\n",
    "non_uk_top_5"
   ]
  },
  {
   "cell_type": "code",
   "execution_count": 37,
   "metadata": {
    "colab": {
     "base_uri": "https://localhost:8080/",
     "height": 479
    },
    "id": "4WOXVmc7NNGc",
    "outputId": "016ee041-486a-4953-d407-4a8fb63b3809"
   },
   "outputs": [
    {
     "data": {
      "image/png": "[encoded data removed]",
      "text/plain": [
       "<Figure size 1440x720 with 1 Axes>"
      ]
     },
     "metadata": {
      "needs_background": "light"
     },
     "output_type": "display_data"
    }
   ],
   "source": [
    "fig = plt.figure(figsize=(20,10))\n",
    "sns.barplot(y='Country', x='Orders', data=non_uk_top_5)\n",
    "plt.xticks(rotation=90)\n",
    "plt.title('Non-UK Orders', fontsize=20, color='g')\n",
    "plt.xlabel('ORDERS', fontsize=25, color='g')\n",
    "plt.ylabel('COUNTRY', fontsize=25, color='g')\n",
    "plt.xticks(color='b', fontsize=20)\n",
    "plt.yticks(color='b', fontsize=20)\n",
    "plt.rc('xtick', labelsize=15)\n",
    "plt.rc('ytick', labelsize=15)\n",
    "plt.savefig('Most_Non_UK_Orders.png')\n",
    "plt.show()"
   ]
  },
  {
   "cell_type": "markdown",
   "metadata": {
    "id": "mhJk7gDaJNM6"
   },
   "source": [
    "## Total Sales By Hour"
   ]
  },
  {
   "cell_type": "code",
   "execution_count": 38,
   "metadata": {
    "colab": {
     "base_uri": "https://localhost:8080/",
     "height": 483
    },
    "id": "4mVoLf7DNNGd",
    "outputId": "854b6363-19af-42df-e6e9-d27773ec9014"
   },
   "outputs": [
    {
     "data": {
      "text/html": [
       "<div>\n",
       "<style scoped>\n",
       "    .dataframe tbody tr th:only-of-type {\n",
       "        vertical-align: middle;\n",
       "    }\n",
       "\n",
       "    .dataframe tbody tr th {\n",
       "        vertical-align: top;\n",
       "    }\n",
       "\n",
       "    .dataframe thead th {\n",
       "        text-align: right;\n",
       "    }\n",
       "</style>\n",
       "<table border=\"1\" class=\"dataframe\">\n",
       "  <thead>\n",
       "    <tr style=\"text-align: right;\">\n",
       "      <th></th>\n",
       "      <th>Hour</th>\n",
       "      <th>TotalSales</th>\n",
       "    </tr>\n",
       "  </thead>\n",
       "  <tbody>\n",
       "    <tr>\n",
       "      <th>0</th>\n",
       "      <td>7</td>\n",
       "      <td>30867.16</td>\n",
       "    </tr>\n",
       "    <tr>\n",
       "      <th>1</th>\n",
       "      <td>8</td>\n",
       "      <td>280571.07</td>\n",
       "    </tr>\n",
       "    <tr>\n",
       "      <th>2</th>\n",
       "      <td>9</td>\n",
       "      <td>923439.41</td>\n",
       "    </tr>\n",
       "    <tr>\n",
       "      <th>3</th>\n",
       "      <td>10</td>\n",
       "      <td>1363299.01</td>\n",
       "    </tr>\n",
       "    <tr>\n",
       "      <th>4</th>\n",
       "      <td>11</td>\n",
       "      <td>1145019.20</td>\n",
       "    </tr>\n",
       "    <tr>\n",
       "      <th>5</th>\n",
       "      <td>12</td>\n",
       "      <td>1346056.66</td>\n",
       "    </tr>\n",
       "    <tr>\n",
       "      <th>6</th>\n",
       "      <td>13</td>\n",
       "      <td>1159115.92</td>\n",
       "    </tr>\n",
       "    <tr>\n",
       "      <th>7</th>\n",
       "      <td>14</td>\n",
       "      <td>1048473.49</td>\n",
       "    </tr>\n",
       "    <tr>\n",
       "      <th>8</th>\n",
       "      <td>15</td>\n",
       "      <td>1152047.50</td>\n",
       "    </tr>\n",
       "    <tr>\n",
       "      <th>9</th>\n",
       "      <td>16</td>\n",
       "      <td>604873.96</td>\n",
       "    </tr>\n",
       "    <tr>\n",
       "      <th>10</th>\n",
       "      <td>17</td>\n",
       "      <td>388483.55</td>\n",
       "    </tr>\n",
       "    <tr>\n",
       "      <th>11</th>\n",
       "      <td>18</td>\n",
       "      <td>123608.18</td>\n",
       "    </tr>\n",
       "    <tr>\n",
       "      <th>12</th>\n",
       "      <td>19</td>\n",
       "      <td>44400.80</td>\n",
       "    </tr>\n",
       "    <tr>\n",
       "      <th>13</th>\n",
       "      <td>20</td>\n",
       "      <td>18059.18</td>\n",
       "    </tr>\n",
       "  </tbody>\n",
       "</table>\n",
       "</div>"
      ],
      "text/plain": [
       "    Hour  TotalSales\n",
       "0      7    30867.16\n",
       "1      8   280571.07\n",
       "2      9   923439.41\n",
       "3     10  1363299.01\n",
       "4     11  1145019.20\n",
       "5     12  1346056.66\n",
       "6     13  1159115.92\n",
       "7     14  1048473.49\n",
       "8     15  1152047.50\n",
       "9     16   604873.96\n",
       "10    17   388483.55\n",
       "11    18   123608.18\n",
       "12    19    44400.80\n",
       "13    20    18059.18"
      ]
     },
     "execution_count": 38,
     "metadata": {},
     "output_type": "execute_result"
    }
   ],
   "source": [
    "sales_hr = df.groupby('Hour').TotalAmount.sum().reset_index()\n",
    "sales_hr.columns = ['Hour', 'TotalSales']\n",
    "sales_hr"
   ]
  },
  {
   "cell_type": "code",
   "execution_count": 39,
   "metadata": {
    "colab": {
     "base_uri": "https://localhost:8080/",
     "height": 493
    },
    "id": "tZsZAvGONNGe",
    "outputId": "a5952efd-eb9a-47ea-8af2-fa120dbbc281"
   },
   "outputs": [
    {
     "data": {
      "image/png": "[encoded data removed]",
      "text/plain": [
       "<Figure size 1440x720 with 1 Axes>"
      ]
     },
     "metadata": {
      "needs_background": "light"
     },
     "output_type": "display_data"
    }
   ],
   "source": [
    "plt.figure(figsize=(20, 10))\n",
    "plt.plot(sales_hr['Hour'], sales_hr['TotalSales'], marker='o', linestyle='-.', color='g')\n",
    "plt.title('Total Sales By Hour', fontsize=30, color='b')\n",
    "plt.xlabel('Hours', fontsize=20, color='b')\n",
    "plt.ylabel('Total Sales in Euros (Millions)', fontsize=15, color='b')\n",
    "plt.xticks(fontsize=20, color='r')\n",
    "plt.yticks(fontsize=20, color='r')\n",
    "plt.savefig('Busiest_Hours_Of_The_Day.png')\n",
    "plt.show()"
   ]
  },
  {
   "cell_type": "markdown",
   "metadata": {
    "id": "CrPT3tXHP7-L"
   },
   "source": [
    "## What's The Average Monthly Sales?"
   ]
  },
  {
   "cell_type": "code",
   "execution_count": 40,
   "metadata": {
    "colab": {
     "base_uri": "https://localhost:8080/",
     "height": 421
    },
    "id": "Bpfdsd9INNGf",
    "outputId": "42e56219-85c0-4a89-ae7f-28295de7bd75"
   },
   "outputs": [
    {
     "data": {
      "text/html": [
       "<div>\n",
       "<style scoped>\n",
       "    .dataframe tbody tr th:only-of-type {\n",
       "        vertical-align: middle;\n",
       "    }\n",
       "\n",
       "    .dataframe tbody tr th {\n",
       "        vertical-align: top;\n",
       "    }\n",
       "\n",
       "    .dataframe thead th {\n",
       "        text-align: right;\n",
       "    }\n",
       "</style>\n",
       "<table border=\"1\" class=\"dataframe\">\n",
       "  <thead>\n",
       "    <tr style=\"text-align: right;\">\n",
       "      <th></th>\n",
       "      <th>Month</th>\n",
       "      <th>avg_sales</th>\n",
       "    </tr>\n",
       "  </thead>\n",
       "  <tbody>\n",
       "    <tr>\n",
       "      <th>0</th>\n",
       "      <td>1</td>\n",
       "      <td>26.347188</td>\n",
       "    </tr>\n",
       "    <tr>\n",
       "      <th>1</th>\n",
       "      <td>2</td>\n",
       "      <td>24.653114</td>\n",
       "    </tr>\n",
       "    <tr>\n",
       "      <th>2</th>\n",
       "      <td>3</td>\n",
       "      <td>25.003285</td>\n",
       "    </tr>\n",
       "    <tr>\n",
       "      <th>3</th>\n",
       "      <td>4</td>\n",
       "      <td>22.862932</td>\n",
       "    </tr>\n",
       "    <tr>\n",
       "      <th>4</th>\n",
       "      <td>5</td>\n",
       "      <td>25.745560</td>\n",
       "    </tr>\n",
       "    <tr>\n",
       "      <th>5</th>\n",
       "      <td>6</td>\n",
       "      <td>26.795779</td>\n",
       "    </tr>\n",
       "    <tr>\n",
       "      <th>6</th>\n",
       "      <td>7</td>\n",
       "      <td>23.691805</td>\n",
       "    </tr>\n",
       "    <tr>\n",
       "      <th>7</th>\n",
       "      <td>8</td>\n",
       "      <td>26.345413</td>\n",
       "    </tr>\n",
       "    <tr>\n",
       "      <th>8</th>\n",
       "      <td>9</td>\n",
       "      <td>26.012003</td>\n",
       "    </tr>\n",
       "    <tr>\n",
       "      <th>9</th>\n",
       "      <td>10</td>\n",
       "      <td>23.917013</td>\n",
       "    </tr>\n",
       "    <tr>\n",
       "      <th>10</th>\n",
       "      <td>11</td>\n",
       "      <td>23.546906</td>\n",
       "    </tr>\n",
       "    <tr>\n",
       "      <th>11</th>\n",
       "      <td>12</td>\n",
       "      <td>29.404879</td>\n",
       "    </tr>\n",
       "  </tbody>\n",
       "</table>\n",
       "</div>"
      ],
      "text/plain": [
       "    Month  avg_sales\n",
       "0       1  26.347188\n",
       "1       2  24.653114\n",
       "2       3  25.003285\n",
       "3       4  22.862932\n",
       "4       5  25.745560\n",
       "5       6  26.795779\n",
       "6       7  23.691805\n",
       "7       8  26.345413\n",
       "8       9  26.012003\n",
       "9      10  23.917013\n",
       "10     11  23.546906\n",
       "11     12  29.404879"
      ]
     },
     "execution_count": 40,
     "metadata": {},
     "output_type": "execute_result"
    }
   ],
   "source": [
    "month_sales = df.groupby('Month').TotalAmount.mean().reset_index()\n",
    "month_sales.columns = ['Month', 'avg_sales']\n",
    "month_sales"
   ]
  },
  {
   "cell_type": "code",
   "execution_count": 41,
   "metadata": {
    "colab": {
     "base_uri": "https://localhost:8080/",
     "height": 488
    },
    "id": "1k2cc_cyNNGf",
    "outputId": "a9a2de4a-ebf6-4d5e-f0e1-ff097acd7678"
   },
   "outputs": [
    {
     "data": {
      "image/png": "[encoded data removed]",
      "text/plain": [
       "<Figure size 1440x720 with 1 Axes>"
      ]
     },
     "metadata": {
      "needs_background": "light"
     },
     "output_type": "display_data"
    }
   ],
   "source": [
    "months = ['Jan', 'Feb', 'Mar', 'April', 'May', 'June', 'July', 'August', 'Sept', 'Oct', 'Nov', 'Dec']\n",
    "x = month_sales['Month']\n",
    "y = month_sales['avg_sales']\n",
    "plt.figure(figsize=(20, 10))\n",
    "plt.plot(x, y, marker='.', linestyle='--')\n",
    "plt.title('Average Monthly Sales', fontsize=20)\n",
    "plt.xlabel('Month', fontsize=20, color='g')\n",
    "plt.xticks(x, months)\n",
    "plt.ylabel('Average Sales(Euros)', fontsize=20, color='g')\n",
    "plt.savefig('Average_Monthly_sales.png')\n",
    "plt.show()"
   ]
  },
  {
   "cell_type": "markdown",
   "metadata": {
    "id": "xtEyspqIPEqH"
   },
   "source": [
    "## Most Expensive Items"
   ]
  },
  {
   "cell_type": "code",
   "execution_count": 42,
   "metadata": {
    "colab": {
     "base_uri": "https://localhost:8080/",
     "height": 959
    },
    "id": "YE0-2ANuNNGf",
    "outputId": "f98111ad-3eca-4e05-d141-12be54da9bf5"
   },
   "outputs": [
    {
     "data": {
      "text/html": [
       "<div>\n",
       "<style scoped>\n",
       "    .dataframe tbody tr th:only-of-type {\n",
       "        vertical-align: middle;\n",
       "    }\n",
       "\n",
       "    .dataframe tbody tr th {\n",
       "        vertical-align: top;\n",
       "    }\n",
       "\n",
       "    .dataframe thead th {\n",
       "        text-align: right;\n",
       "    }\n",
       "</style>\n",
       "<table border=\"1\" class=\"dataframe\">\n",
       "  <thead>\n",
       "    <tr style=\"text-align: right;\">\n",
       "      <th></th>\n",
       "      <th>InvoiceNo</th>\n",
       "      <th>StockCode</th>\n",
       "      <th>Description</th>\n",
       "      <th>Quantity</th>\n",
       "      <th>InvoiceDate</th>\n",
       "      <th>UnitPrice</th>\n",
       "      <th>CustomerID</th>\n",
       "      <th>Country</th>\n",
       "      <th>TotalAmount</th>\n",
       "      <th>Year</th>\n",
       "      <th>Hour</th>\n",
       "      <th>Month</th>\n",
       "    </tr>\n",
       "  </thead>\n",
       "  <tbody>\n",
       "    <tr>\n",
       "      <th>540421</th>\n",
       "      <td>581483</td>\n",
       "      <td>23843</td>\n",
       "      <td>PAPER CRAFT , LITTLE BIRDIE</td>\n",
       "      <td>80995</td>\n",
       "      <td>2011-12-09 09:15:00</td>\n",
       "      <td>2.08</td>\n",
       "      <td>16446</td>\n",
       "      <td>United Kingdom</td>\n",
       "      <td>168469.60</td>\n",
       "      <td>2011</td>\n",
       "      <td>9</td>\n",
       "      <td>12</td>\n",
       "    </tr>\n",
       "    <tr>\n",
       "      <th>4945</th>\n",
       "      <td>536830</td>\n",
       "      <td>84077</td>\n",
       "      <td>WORLD WAR 2 GLIDERS ASSTD DESIGNS</td>\n",
       "      <td>2880</td>\n",
       "      <td>2010-12-02 17:38:00</td>\n",
       "      <td>0.18</td>\n",
       "      <td>16754</td>\n",
       "      <td>United Kingdom</td>\n",
       "      <td>518.40</td>\n",
       "      <td>2010</td>\n",
       "      <td>17</td>\n",
       "      <td>12</td>\n",
       "    </tr>\n",
       "    <tr>\n",
       "      <th>32671</th>\n",
       "      <td>539101</td>\n",
       "      <td>22693</td>\n",
       "      <td>GROW A FLYTRAP OR SUNFLOWER IN TIN</td>\n",
       "      <td>2400</td>\n",
       "      <td>2010-12-16 10:35:00</td>\n",
       "      <td>0.94</td>\n",
       "      <td>16029</td>\n",
       "      <td>United Kingdom</td>\n",
       "      <td>2256.00</td>\n",
       "      <td>2010</td>\n",
       "      <td>10</td>\n",
       "      <td>12</td>\n",
       "    </tr>\n",
       "    <tr>\n",
       "      <th>4850</th>\n",
       "      <td>536809</td>\n",
       "      <td>84950</td>\n",
       "      <td>ASSORTED COLOUR T-LIGHT HOLDER</td>\n",
       "      <td>1824</td>\n",
       "      <td>2010-12-02 16:48:00</td>\n",
       "      <td>0.55</td>\n",
       "      <td>15299</td>\n",
       "      <td>United Kingdom</td>\n",
       "      <td>1003.20</td>\n",
       "      <td>2010</td>\n",
       "      <td>16</td>\n",
       "      <td>12</td>\n",
       "    </tr>\n",
       "    <tr>\n",
       "      <th>25920</th>\n",
       "      <td>538420</td>\n",
       "      <td>17096</td>\n",
       "      <td>ASSORTED LAQUERED INCENSE HOLDERS</td>\n",
       "      <td>1728</td>\n",
       "      <td>2010-12-12 12:03:00</td>\n",
       "      <td>0.17</td>\n",
       "      <td>12875</td>\n",
       "      <td>United Kingdom</td>\n",
       "      <td>293.76</td>\n",
       "      <td>2010</td>\n",
       "      <td>12</td>\n",
       "      <td>12</td>\n",
       "    </tr>\n",
       "    <tr>\n",
       "      <th>...</th>\n",
       "      <td>...</td>\n",
       "      <td>...</td>\n",
       "      <td>...</td>\n",
       "      <td>...</td>\n",
       "      <td>...</td>\n",
       "      <td>...</td>\n",
       "      <td>...</td>\n",
       "      <td>...</td>\n",
       "      <td>...</td>\n",
       "      <td>...</td>\n",
       "      <td>...</td>\n",
       "      <td>...</td>\n",
       "    </tr>\n",
       "    <tr>\n",
       "      <th>517399</th>\n",
       "      <td>580054</td>\n",
       "      <td>84580</td>\n",
       "      <td>MOUSE TOY WITH PINK T-SHIRT</td>\n",
       "      <td>2</td>\n",
       "      <td>2011-12-01 13:08:00</td>\n",
       "      <td>3.75</td>\n",
       "      <td>18122</td>\n",
       "      <td>United Kingdom</td>\n",
       "      <td>7.50</td>\n",
       "      <td>2011</td>\n",
       "      <td>13</td>\n",
       "      <td>12</td>\n",
       "    </tr>\n",
       "    <tr>\n",
       "      <th>22518</th>\n",
       "      <td>538171</td>\n",
       "      <td>22271</td>\n",
       "      <td>FELTCRAFT DOLL ROSIE</td>\n",
       "      <td>2</td>\n",
       "      <td>2010-12-09 20:01:00</td>\n",
       "      <td>2.95</td>\n",
       "      <td>17530</td>\n",
       "      <td>United Kingdom</td>\n",
       "      <td>5.90</td>\n",
       "      <td>2010</td>\n",
       "      <td>20</td>\n",
       "      <td>12</td>\n",
       "    </tr>\n",
       "    <tr>\n",
       "      <th>22521</th>\n",
       "      <td>538171</td>\n",
       "      <td>20970</td>\n",
       "      <td>PINK FLORAL FELTCRAFT SHOULDER BAG</td>\n",
       "      <td>2</td>\n",
       "      <td>2010-12-09 20:01:00</td>\n",
       "      <td>3.75</td>\n",
       "      <td>17530</td>\n",
       "      <td>United Kingdom</td>\n",
       "      <td>7.50</td>\n",
       "      <td>2010</td>\n",
       "      <td>20</td>\n",
       "      <td>12</td>\n",
       "    </tr>\n",
       "    <tr>\n",
       "      <th>517394</th>\n",
       "      <td>580054</td>\n",
       "      <td>82616C</td>\n",
       "      <td>MIDNIGHT GLAMOUR SCARF KNITTING KIT</td>\n",
       "      <td>2</td>\n",
       "      <td>2011-12-01 13:08:00</td>\n",
       "      <td>1.25</td>\n",
       "      <td>18122</td>\n",
       "      <td>United Kingdom</td>\n",
       "      <td>2.50</td>\n",
       "      <td>2011</td>\n",
       "      <td>13</td>\n",
       "      <td>12</td>\n",
       "    </tr>\n",
       "    <tr>\n",
       "      <th>532653</th>\n",
       "      <td>580983</td>\n",
       "      <td>72799E</td>\n",
       "      <td>IVORY PILLAR CANDLE SILVER FLOCK</td>\n",
       "      <td>2</td>\n",
       "      <td>2011-12-06 16:26:00</td>\n",
       "      <td>3.29</td>\n",
       "      <td>0</td>\n",
       "      <td>United Kingdom</td>\n",
       "      <td>6.58</td>\n",
       "      <td>2011</td>\n",
       "      <td>16</td>\n",
       "      <td>12</td>\n",
       "    </tr>\n",
       "  </tbody>\n",
       "</table>\n",
       "<p>43925 rows × 12 columns</p>\n",
       "</div>"
      ],
      "text/plain": [
       "       InvoiceNo StockCode                          Description  Quantity  \\\n",
       "540421    581483     23843          PAPER CRAFT , LITTLE BIRDIE     80995   \n",
       "4945      536830     84077    WORLD WAR 2 GLIDERS ASSTD DESIGNS      2880   \n",
       "32671     539101     22693   GROW A FLYTRAP OR SUNFLOWER IN TIN      2400   \n",
       "4850      536809     84950       ASSORTED COLOUR T-LIGHT HOLDER      1824   \n",
       "25920     538420     17096    ASSORTED LAQUERED INCENSE HOLDERS      1728   \n",
       "...          ...       ...                                  ...       ...   \n",
       "517399    580054     84580          MOUSE TOY WITH PINK T-SHIRT         2   \n",
       "22518     538171     22271                 FELTCRAFT DOLL ROSIE         2   \n",
       "22521     538171     20970   PINK FLORAL FELTCRAFT SHOULDER BAG         2   \n",
       "517394    580054    82616C  MIDNIGHT GLAMOUR SCARF KNITTING KIT         2   \n",
       "532653    580983    72799E     IVORY PILLAR CANDLE SILVER FLOCK         2   \n",
       "\n",
       "               InvoiceDate  UnitPrice  CustomerID         Country  \\\n",
       "540421 2011-12-09 09:15:00       2.08       16446  United Kingdom   \n",
       "4945   2010-12-02 17:38:00       0.18       16754  United Kingdom   \n",
       "32671  2010-12-16 10:35:00       0.94       16029  United Kingdom   \n",
       "4850   2010-12-02 16:48:00       0.55       15299  United Kingdom   \n",
       "25920  2010-12-12 12:03:00       0.17       12875  United Kingdom   \n",
       "...                    ...        ...         ...             ...   \n",
       "517399 2011-12-01 13:08:00       3.75       18122  United Kingdom   \n",
       "22518  2010-12-09 20:01:00       2.95       17530  United Kingdom   \n",
       "22521  2010-12-09 20:01:00       3.75       17530  United Kingdom   \n",
       "517394 2011-12-01 13:08:00       1.25       18122  United Kingdom   \n",
       "532653 2011-12-06 16:26:00       3.29           0  United Kingdom   \n",
       "\n",
       "        TotalAmount  Year  Hour  Month  \n",
       "540421    168469.60  2011     9     12  \n",
       "4945         518.40  2010    17     12  \n",
       "32671       2256.00  2010    10     12  \n",
       "4850        1003.20  2010    16     12  \n",
       "25920        293.76  2010    12     12  \n",
       "...             ...   ...   ...    ...  \n",
       "517399         7.50  2011    13     12  \n",
       "22518          5.90  2010    20     12  \n",
       "22521          7.50  2010    20     12  \n",
       "517394         2.50  2011    13     12  \n",
       "532653         6.58  2011    16     12  \n",
       "\n",
       "[43925 rows x 12 columns]"
      ]
     },
     "execution_count": 42,
     "metadata": {},
     "output_type": "execute_result"
    }
   ],
   "source": [
    "december = df['Month'] > 11\n",
    "holiday = df[december]\n",
    "mean_holiday_sales = holiday.groupby('Year').TotalAmount.mean().reset_index()\n",
    "holiday.sort_values(by='Quantity', ascending=False)\n",
    "\n"
   ]
  },
  {
   "cell_type": "code",
   "execution_count": 43,
   "metadata": {
    "id": "qZNomtoaNNGg"
   },
   "outputs": [],
   "source": [
    "holiday_2010_prices = holiday.loc[holiday['Year'] == 2010, 'UnitPrice']\n",
    "holiday_2011_prices = holiday.loc[holiday['Year'] == 2011, 'UnitPrice']"
   ]
  },
  {
   "cell_type": "code",
   "execution_count": 44,
   "metadata": {
    "colab": {
     "base_uri": "https://localhost:8080/",
     "height": 682
    },
    "id": "TkqeN9wFNNGg",
    "outputId": "f226318c-b7c0-4bbf-a9a6-d2e58ab70bc3"
   },
   "outputs": [
    {
     "data": {
      "image/png": "[encoded data removed]",
      "text/plain": [
       "<Figure size 1440x1080 with 1 Axes>"
      ]
     },
     "metadata": {
      "needs_background": "light"
     },
     "output_type": "display_data"
    }
   ],
   "source": [
    "holiday_price = [holiday_2010_prices, holiday_2011_prices]\n",
    "plt.figure(figsize=(20, 15))\n",
    "plt.boxplot(holiday_price, patch_artist='True', labels=['2010', '2011'], vert=0)\n",
    "plt.title('Holiday Prices Plot', fontsize=20, color='g')\n",
    "plt.ylabel('Year', fontsize=20, color='g')\n",
    "plt.xlabel('Prices', fontsize=20, color='g')\n",
    "plt.savefig('Holiday_Prices.png')\n",
    "plt.show()"
   ]
  },
  {
   "cell_type": "code",
   "execution_count": 45,
   "metadata": {
    "id": "I3JimuIqNNGe"
   },
   "outputs": [],
   "source": [
    "prices = df.groupby(['UnitPrice', 'Description']).StockCode.count().reset_index()\n",
    "prices = prices.sort_values(by='UnitPrice', ascending=False)\n",
    "prices.columns = ['UnitPrice', 'Description', 'Product Count']\n",
    "toptenprice = prices.head(10)\n",
    "toptenprice = toptenprice.sort_values(by='UnitPrice', ascending=False)"
   ]
  },
  {
   "cell_type": "code",
   "execution_count": 46,
   "metadata": {
    "colab": {
     "base_uri": "https://localhost:8080/",
     "height": 412
    },
    "id": "geVH8X2CNNGe",
    "outputId": "e9a231eb-d17e-4156-9df4-6a5870c3611e"
   },
   "outputs": [
    {
     "data": {
      "image/png": "[encoded data removed]",
      "text/plain": [
       "<Figure size 1440x720 with 1 Axes>"
      ]
     },
     "metadata": {
      "needs_background": "light"
     },
     "output_type": "display_data"
    }
   ],
   "source": [
    "plt.figure(figsize=(20, 10))\n",
    "sns.barplot(y='Description', x='UnitPrice', data=toptenprice, ci=None)\n",
    "plt.title('Most Expensive Product', fontsize=30)\n",
    "plt.xticks(rotation=90, fontsize=20)\n",
    "plt.xlabel('Price in Euros', fontsize=20, color='green')\n",
    "plt.ylabel('Description', fontsize=20, color='green')\n",
    "plt.savefig('Most_Expensive_Product.png')\n",
    "plt.show()"
   ]
  },
  {
   "cell_type": "markdown",
   "metadata": {
    "id": "WKUqRhasSOvv"
   },
   "source": [
    "## How Do Holiday 2010 and 2011 Sales Compare?"
   ]
  },
  {
   "cell_type": "code",
   "execution_count": 47,
   "metadata": {
    "id": "A_gsicMnNNGf"
   },
   "outputs": [],
   "source": [
    "holiday_2010 = holiday.loc[holiday['Year'] == 2010, 'TotalAmount']\n",
    "holiday_2011 = holiday.loc[holiday['Year'] == 2011, 'TotalAmount']"
   ]
  },
  {
   "cell_type": "code",
   "execution_count": 48,
   "metadata": {
    "colab": {
     "base_uri": "https://localhost:8080/"
    },
    "id": "F7jAFheRNNGf",
    "outputId": "ba6dbee6-729d-4b76-8b05-74063d4fc313"
   },
   "outputs": [
    {
     "name": "stdout",
     "output_type": "stream",
     "text": [
      "26.649484369114795\n",
      "33.615281726618896\n"
     ]
    }
   ],
   "source": [
    "mean_2010_sales = np.mean(holiday_2010)\n",
    "mean_2011_sales = np.mean(holiday_2011)\n",
    "len(holiday['TotalAmount'])\n",
    "print(mean_2010_sales)\n",
    "/\n",
    "print(mean_2011_sales)"
   ]
  },
  {
   "cell_type": "markdown",
   "metadata": {
    "id": "sApoajSfStq-"
   },
   "source": [
    "T-test was used to compare average sales in December 2010 and 2011. Altough December 2011 had higher average sales than December 2010, the average sales were not significant. In other words, the t-test tell us that average sales from both holiday years were the same."
   ]
  },
  {
   "cell_type": "code",
   "execution_count": 49,
   "metadata": {
    "colab": {
     "base_uri": "https://localhost:8080/"
    },
    "id": "yvjFBFevNNGg",
    "outputId": "703321e1-cc75-4f52-ddcb-4b8b1d41ee47"
   },
   "outputs": [
    {
     "data": {
      "text/plain": [
       "Ttest_indResult(statistic=-0.8836092834193682, pvalue=0.37691200220456245)"
      ]
     },
     "execution_count": 49,
     "metadata": {},
     "output_type": "execute_result"
    }
   ],
   "source": [
    "x = ttest_ind(holiday_2010, holiday_2011)\n",
    "x"
   ]
  },
  {
   "cell_type": "markdown",
   "metadata": {
    "id": "F8nyHjp7UWng"
   },
   "source": [
    "## Another Look At Canceled Items and Returns"
   ]
  },
  {
   "cell_type": "code",
   "execution_count": 50,
   "metadata": {
    "id": "g1hDoAVNNNGg"
   },
   "outputs": [],
   "source": [
    "canceled = retail['Quantity'] < 0\n",
    "canceled_items = retail[canceled]"
   ]
  },
  {
   "cell_type": "code",
   "execution_count": 51,
   "metadata": {
    "colab": {
     "base_uri": "https://localhost:8080/",
     "height": 204
    },
    "id": "vNitmCCVNNGg",
    "outputId": "637de969-0340-461e-f327-bfbd11783920"
   },
   "outputs": [
    {
     "data": {
      "text/html": [
       "<div>\n",
       "<style scoped>\n",
       "    .dataframe tbody tr th:only-of-type {\n",
       "        vertical-align: middle;\n",
       "    }\n",
       "\n",
       "    .dataframe tbody tr th {\n",
       "        vertical-align: top;\n",
       "    }\n",
       "\n",
       "    .dataframe thead th {\n",
       "        text-align: right;\n",
       "    }\n",
       "</style>\n",
       "<table border=\"1\" class=\"dataframe\">\n",
       "  <thead>\n",
       "    <tr style=\"text-align: right;\">\n",
       "      <th></th>\n",
       "      <th>product</th>\n",
       "      <th>canceled_orders</th>\n",
       "    </tr>\n",
       "  </thead>\n",
       "  <tbody>\n",
       "    <tr>\n",
       "      <th>1126</th>\n",
       "      <td>Manual</td>\n",
       "      <td>223</td>\n",
       "    </tr>\n",
       "    <tr>\n",
       "      <th>1437</th>\n",
       "      <td>REGENCY CAKESTAND 3 TIER</td>\n",
       "      <td>180</td>\n",
       "    </tr>\n",
       "    <tr>\n",
       "      <th>1342</th>\n",
       "      <td>POSTAGE</td>\n",
       "      <td>124</td>\n",
       "    </tr>\n",
       "    <tr>\n",
       "      <th>2024</th>\n",
       "      <td>check</td>\n",
       "      <td>120</td>\n",
       "    </tr>\n",
       "    <tr>\n",
       "      <th>918</th>\n",
       "      <td>JAM MAKING SET WITH JARS</td>\n",
       "      <td>87</td>\n",
       "    </tr>\n",
       "  </tbody>\n",
       "</table>\n",
       "</div>"
      ],
      "text/plain": [
       "                       product  canceled_orders\n",
       "1126                    Manual              223\n",
       "1437  REGENCY CAKESTAND 3 TIER              180\n",
       "1342                   POSTAGE              124\n",
       "2024                     check              120\n",
       "918   JAM MAKING SET WITH JARS               87"
      ]
     },
     "execution_count": 51,
     "metadata": {},
     "output_type": "execute_result"
    }
   ],
   "source": [
    "canceled_orders = canceled_items.groupby(['Description']).InvoiceNo.nunique().reset_index()\n",
    "canceled_orders = canceled_orders.sort_values(by='InvoiceNo', ascending=False)\n",
    "canceled_orders.columns = ['product', 'canceled_orders']\n",
    "top_5_cancel = canceled_orders.head(5)\n",
    "top_5_cancel"
   ]
  },
  {
   "cell_type": "code",
   "execution_count": 52,
   "metadata": {
    "colab": {
     "base_uri": "https://localhost:8080/",
     "height": 402
    },
    "id": "XXJZ_axrNNGg",
    "outputId": "147aeee4-eeb4-4c60-8189-5a4d7aa89452"
   },
   "outputs": [
    {
     "data": {
      "image/png": "[encoded data removed]",
      "text/plain": [
       "<Figure size 1440x720 with 1 Axes>"
      ]
     },
     "metadata": {
      "needs_background": "light"
     },
     "output_type": "display_data"
    }
   ],
   "source": [
    "plt.figure(figsize=(20, 10))\n",
    "sns.barplot(y='product', x='canceled_orders', data=top_5_cancel)\n",
    "plt.title('TOP 5 ITEMS EITHER EITHER OR RETURNED', color='blue', fontsize=20)\n",
    "plt.xlabel('NUMBER OF CANCELED/RETURNED ORDERS', fontsize=20, color='b')\n",
    "plt.ylabel('ITEMS', fontsize=20, color='b')\n",
    "plt.xticks(fontsize=20, color='red')\n",
    "plt.yticks(fontsize=20, color='red')\n",
    "plt.savefig('Cancelation_Reasons.png', bbox_inches=\"tight\")\n",
    "plt.show()"
   ]
  },
  {
   "cell_type": "code",
   "execution_count": 53,
   "metadata": {
    "id": "mHK8EIkRNNGg"
   },
   "outputs": [],
   "source": [
    "df.to_csv('DW_EDA_Capstone_Project.csv', index=False)"
   ]
  }
 ],
 "metadata": {
  "colab": {
   "collapsed_sections": [],
   "name": "Data_Wrangling_EDA_Capstone Project.ipynb",
   "provenance": [],
   "toc_visible": true
  },
  "kernelspec": {
   "display_name": "Python 3 (ipykernel)",
   "language": "python",
   "name": "python3"
  },
  "language_info": {
   "codemirror_mode": {
    "name": "ipython",
    "version": 3
   },
   "file_extension": ".py",
   "mimetype": "text/x-python",
   "name": "python",
   "nbconvert_exporter": "python",
   "pygments_lexer": "ipython3",
   "version": "3.8.2"
  }
 },
 "nbformat": 4,
 "nbformat_minor": 1
}
